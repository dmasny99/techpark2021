{
  "nbformat": 4,
  "nbformat_minor": 0,
  "metadata": {
    "kernelspec": {
      "display_name": "Python 3",
      "language": "python",
      "name": "python3"
    },
    "language_info": {
      "codemirror_mode": {
        "name": "ipython",
        "version": 3
      },
      "file_extension": ".py",
      "mimetype": "text/x-python",
      "name": "python",
      "nbconvert_exporter": "python",
      "pygments_lexer": "ipython3",
      "version": "3.7.8"
    },
    "colab": {
      "name": "ABHomework_Masny.ipynb",
      "provenance": [],
      "collapsed_sections": []
    }
  },
  "cells": [
    {
      "cell_type": "markdown",
      "metadata": {
        "id": "WrRFDnwIIlmc"
      },
      "source": [
        "## AB Tests"
      ]
    },
    {
      "cell_type": "code",
      "metadata": {
        "id": "yR-LlO_eKxyQ"
      },
      "source": [
        "import pandas as pd\n",
        "import numpy as np"
      ],
      "execution_count": null,
      "outputs": []
    },
    {
      "cell_type": "code",
      "metadata": {
        "colab": {
          "resources": {
            "http://localhost:8080/nbextensions/google.colab/files.js": {
              "data": "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",
              "ok": true,
              "headers": [
                [
                  "content-type",
                  "application/javascript"
                ]
              ],
              "status": 200,
              "status_text": ""
            }
          },
          "base_uri": "https://localhost:8080/",
          "height": 138
        },
        "id": "YPucdT0UJxKS",
        "outputId": "a44b82dd-855c-4187-8b06-a6b196fa90aa"
      },
      "source": [
        "# загружаю руками каждый файл, предварительно зазиповав\n",
        "from google.colab import files\n",
        "uploaded = files.upload()"
      ],
      "execution_count": null,
      "outputs": [
        {
          "output_type": "display_data",
          "data": {
            "text/html": [
              "\n",
              "     <input type=\"file\" id=\"files-3e47c0d5-a3c5-4801-a664-c14115397311\" name=\"files[]\" multiple disabled\n",
              "        style=\"border:none\" />\n",
              "     <output id=\"result-3e47c0d5-a3c5-4801-a664-c14115397311\">\n",
              "      Upload widget is only available when the cell has been executed in the\n",
              "      current browser session. Please rerun this cell to enable.\n",
              "      </output>\n",
              "      <script src=\"/nbextensions/google.colab/files.js\"></script> "
            ],
            "text/plain": [
              "<IPython.core.display.HTML object>"
            ]
          },
          "metadata": {
            "tags": []
          }
        },
        {
          "output_type": "stream",
          "text": [
            "Saving dataset_part1_students.zip to dataset_part1_students.zip\n",
            "Saving dataset_part2_students.zip to dataset_part2_students.zip\n",
            "Saving dataset_part3_students.zip to dataset_part3_students.zip\n"
          ],
          "name": "stdout"
        }
      ]
    },
    {
      "cell_type": "code",
      "metadata": {
        "id": "R9Thj8FMKmtt"
      },
      "source": [
        "ds1 = pd.read_csv('/content/dataset_part1_students.zip', compression='zip', header=0, sep='\\t', quotechar='\"')\n",
        "ds2 = pd.read_csv('/content/dataset_part2_students.zip', compression='zip', header=0, sep='\\t', quotechar='\"')\n",
        "ds3 = pd.read_csv('/content/dataset_part3_students.zip', compression='zip', header=0, sep='\\t', quotechar='\"')"
      ],
      "execution_count": null,
      "outputs": []
    },
    {
      "cell_type": "markdown",
      "metadata": {
        "id": "GKiQ03bPIlmc"
      },
      "source": [
        "### 1. Оценка результатов AB теста"
      ]
    },
    {
      "cell_type": "markdown",
      "metadata": {
        "id": "idj7Q2iBIlmd"
      },
      "source": [
        "В данном задании вам требуется оценить результаты AB теста. Даны результаты на контрольной и тестовой группе после проведения AB теста.\n",
        "Помимо показателей целевой переменной, вам даны также несколько фичей, которые являются характеристиками объектов. Даны целевые показатели (y) и принадлежность к целевой группе (W).\n",
        "\n",
        "</u>Задача:</u>\n",
        "1. Проверьте подходящую для данных гипотезу о равенстве средних в выборках\n",
        "2. Каков treatment effect нашего воздействия? (ATE) \n",
        "3. Примените известные вам методы оценки ATE с учетом особенностей данных.\n",
        "4. Проанализируйте, сравните результаты применения различных методов.\n",
        "5. В явном виде выпишите выводы.\n",
        "\n",
        "</i>Примечание: предположения о рандомизированном эксперименте нуждаются в проверке - независимость treatment от объектов не гарантирована. Все предположения выписывайте явно.</i> \n",
        "\n",
        "Для данной задачи используется dataset:  dataset_part1_students.csv"
      ]
    },
    {
      "cell_type": "code",
      "metadata": {
        "colab": {
          "base_uri": "https://localhost:8080/",
          "height": 197
        },
        "id": "p_0J9A97OFPI",
        "outputId": "f7597c84-a0f6-467e-dc1f-9010c3fa2bd1"
      },
      "source": [
        "ds1.head()"
      ],
      "execution_count": null,
      "outputs": [
        {
          "output_type": "execute_result",
          "data": {
            "text/html": [
              "<div>\n",
              "<style scoped>\n",
              "    .dataframe tbody tr th:only-of-type {\n",
              "        vertical-align: middle;\n",
              "    }\n",
              "\n",
              "    .dataframe tbody tr th {\n",
              "        vertical-align: top;\n",
              "    }\n",
              "\n",
              "    .dataframe thead th {\n",
              "        text-align: right;\n",
              "    }\n",
              "</style>\n",
              "<table border=\"1\" class=\"dataframe\">\n",
              "  <thead>\n",
              "    <tr style=\"text-align: right;\">\n",
              "      <th></th>\n",
              "      <th>y</th>\n",
              "      <th>W</th>\n",
              "      <th>X_1</th>\n",
              "      <th>X_2</th>\n",
              "      <th>X_3</th>\n",
              "      <th>X_4</th>\n",
              "      <th>X_5</th>\n",
              "      <th>X_6</th>\n",
              "      <th>X_7</th>\n",
              "      <th>X_8</th>\n",
              "      <th>X_9</th>\n",
              "      <th>X_10</th>\n",
              "    </tr>\n",
              "  </thead>\n",
              "  <tbody>\n",
              "    <tr>\n",
              "      <th>0</th>\n",
              "      <td>-1.459404</td>\n",
              "      <td>0.0</td>\n",
              "      <td>0.986277</td>\n",
              "      <td>0.873392</td>\n",
              "      <td>0.509746</td>\n",
              "      <td>0.271836</td>\n",
              "      <td>0.336919</td>\n",
              "      <td>0.216954</td>\n",
              "      <td>0.276477</td>\n",
              "      <td>0.343316</td>\n",
              "      <td>0.862159</td>\n",
              "      <td>0.156700</td>\n",
              "    </tr>\n",
              "    <tr>\n",
              "      <th>1</th>\n",
              "      <td>-1.694174</td>\n",
              "      <td>0.0</td>\n",
              "      <td>0.140887</td>\n",
              "      <td>0.757080</td>\n",
              "      <td>0.736325</td>\n",
              "      <td>0.355663</td>\n",
              "      <td>0.341093</td>\n",
              "      <td>0.666803</td>\n",
              "      <td>0.217101</td>\n",
              "      <td>0.561427</td>\n",
              "      <td>0.124179</td>\n",
              "      <td>0.319736</td>\n",
              "    </tr>\n",
              "    <tr>\n",
              "      <th>2</th>\n",
              "      <td>5.378374</td>\n",
              "      <td>0.0</td>\n",
              "      <td>0.953214</td>\n",
              "      <td>0.137357</td>\n",
              "      <td>0.569413</td>\n",
              "      <td>0.975665</td>\n",
              "      <td>0.503367</td>\n",
              "      <td>0.667664</td>\n",
              "      <td>0.034191</td>\n",
              "      <td>0.456119</td>\n",
              "      <td>0.155851</td>\n",
              "      <td>0.476049</td>\n",
              "    </tr>\n",
              "    <tr>\n",
              "      <th>3</th>\n",
              "      <td>2.188189</td>\n",
              "      <td>1.0</td>\n",
              "      <td>0.169702</td>\n",
              "      <td>0.896258</td>\n",
              "      <td>0.373394</td>\n",
              "      <td>0.379693</td>\n",
              "      <td>0.858317</td>\n",
              "      <td>0.646061</td>\n",
              "      <td>0.583462</td>\n",
              "      <td>0.668350</td>\n",
              "      <td>0.177793</td>\n",
              "      <td>0.849248</td>\n",
              "    </tr>\n",
              "    <tr>\n",
              "      <th>4</th>\n",
              "      <td>2.862696</td>\n",
              "      <td>1.0</td>\n",
              "      <td>0.442373</td>\n",
              "      <td>0.831468</td>\n",
              "      <td>0.763921</td>\n",
              "      <td>0.919691</td>\n",
              "      <td>0.070573</td>\n",
              "      <td>0.156165</td>\n",
              "      <td>0.636894</td>\n",
              "      <td>0.555696</td>\n",
              "      <td>0.191929</td>\n",
              "      <td>0.425656</td>\n",
              "    </tr>\n",
              "  </tbody>\n",
              "</table>\n",
              "</div>"
            ],
            "text/plain": [
              "          y    W       X_1       X_2  ...       X_7       X_8       X_9      X_10\n",
              "0 -1.459404  0.0  0.986277  0.873392  ...  0.276477  0.343316  0.862159  0.156700\n",
              "1 -1.694174  0.0  0.140887  0.757080  ...  0.217101  0.561427  0.124179  0.319736\n",
              "2  5.378374  0.0  0.953214  0.137357  ...  0.034191  0.456119  0.155851  0.476049\n",
              "3  2.188189  1.0  0.169702  0.896258  ...  0.583462  0.668350  0.177793  0.849248\n",
              "4  2.862696  1.0  0.442373  0.831468  ...  0.636894  0.555696  0.191929  0.425656\n",
              "\n",
              "[5 rows x 12 columns]"
            ]
          },
          "metadata": {
            "tags": []
          },
          "execution_count": 11
        }
      ]
    },
    {
      "cell_type": "markdown",
      "metadata": {
        "id": "uhm0Fb1KO4vi"
      },
      "source": [
        " 1.1) Разбиваю датасет на 2 подвыборки: treatment и control"
      ]
    },
    {
      "cell_type": "code",
      "metadata": {
        "id": "TtGVcm2YO4MF"
      },
      "source": [
        "tr1 = ds1[ds1['W'] == 1]\n",
        "cn1 = ds1[ds1['W'] == 0]"
      ],
      "execution_count": null,
      "outputs": []
    },
    {
      "cell_type": "markdown",
      "metadata": {
        "id": "NwGf4puUP6R4"
      },
      "source": [
        "1.2) Дальше хочу использовать Z критерий, чтобы проверить гипотезу о равенстве средних выборок, но сразу я его применить не могу, потому что не знаю, нормально ли распределены выборки. Проверяю выборки на нормальность с помощью теста Шапиро-Уилка, информацию нашел тут: https://machinelearningmastery.com/a-gentle-introduction-to-normality-tests-in-python/ . Взял этот критерий, потому что уже есть его библиотечная реализация. (критерий хи квадрат не нагуглил, поэтому остановился на этом)"
      ]
    },
    {
      "cell_type": "markdown",
      "metadata": {
        "id": "t0EiNT0QUcNn"
      },
      "source": [
        "H0: распределение - нормальное  \n",
        "Н1: распределение - любое кроме нормального  \n",
        "Задаюсь уровнем значимости alpha = 0.05"
      ]
    },
    {
      "cell_type": "code",
      "metadata": {
        "id": "JoGszw1RPw7i"
      },
      "source": [
        "from scipy.stats import shapiro"
      ],
      "execution_count": null,
      "outputs": []
    },
    {
      "cell_type": "code",
      "metadata": {
        "colab": {
          "base_uri": "https://localhost:8080/"
        },
        "id": "BfkdFoK5RauZ",
        "outputId": "1f0f6c26-8270-4c13-df37-86a1c38e0ad4"
      },
      "source": [
        "stat, p = shapiro(tr1['y'])\n",
        "print('Statistics={},p={}'.format(stat, p))"
      ],
      "execution_count": null,
      "outputs": [
        {
          "output_type": "stream",
          "text": [
            "Statistics=0.9998707175254822,p=0.8599085807800293\n"
          ],
          "name": "stdout"
        },
        {
          "output_type": "stream",
          "text": [
            "/usr/local/lib/python3.7/dist-packages/scipy/stats/morestats.py:1676: UserWarning: p-value may not be accurate for N > 5000.\n",
            "  warnings.warn(\"p-value may not be accurate for N > 5000.\")\n"
          ],
          "name": "stderr"
        }
      ]
    },
    {
      "cell_type": "code",
      "metadata": {
        "colab": {
          "base_uri": "https://localhost:8080/"
        },
        "id": "uujQDobbT3zv",
        "outputId": "c859d7ce-a18d-4ca2-aa8b-0756f2d4de1e"
      },
      "source": [
        "stat, p = shapiro(cn1['y'])\n",
        "print('Statistics={},p={}'.format(stat, p))"
      ],
      "execution_count": null,
      "outputs": [
        {
          "output_type": "stream",
          "text": [
            "Statistics=0.9998553991317749,p=0.837329626083374\n"
          ],
          "name": "stdout"
        },
        {
          "output_type": "stream",
          "text": [
            "/usr/local/lib/python3.7/dist-packages/scipy/stats/morestats.py:1676: UserWarning: p-value may not be accurate for N > 5000.\n",
            "  warnings.warn(\"p-value may not be accurate for N > 5000.\")\n"
          ],
          "name": "stderr"
        }
      ]
    },
    {
      "cell_type": "markdown",
      "metadata": {
        "id": "tAamdWIGUS-D"
      },
      "source": [
        "Р больше уровня значимости, то есть нет оснований отвергать нулевую гипотезу о нормальности распределения каждой выборки."
      ]
    },
    {
      "cell_type": "markdown",
      "metadata": {
        "id": "1OuEUQRZU5Si"
      },
      "source": [
        "1.3) Теперь могу использовать Z-тест, тк предположение о нормальности распределения выборок выполняется."
      ]
    },
    {
      "cell_type": "markdown",
      "metadata": {
        "id": "qrLlV5ofVeGD"
      },
      "source": [
        "H0: средние выборок равны  \n",
        "Н1: средние выборок не равны  \n",
        "Задаюсь уровнем значимости alpha = 0.05  "
      ]
    },
    {
      "cell_type": "code",
      "metadata": {
        "colab": {
          "base_uri": "https://localhost:8080/"
        },
        "id": "52jlBkJaU408",
        "outputId": "61d0e7c0-ea26-479b-ca5d-a2b2553779d8"
      },
      "source": [
        "from statsmodels.stats.weightstats import ztest"
      ],
      "execution_count": null,
      "outputs": [
        {
          "output_type": "stream",
          "text": [
            "/usr/local/lib/python3.7/dist-packages/statsmodels/tools/_testing.py:19: FutureWarning: pandas.util.testing is deprecated. Use the functions in the public API at pandas.testing instead.\n",
            "  import pandas.util.testing as tm\n"
          ],
          "name": "stderr"
        }
      ]
    },
    {
      "cell_type": "code",
      "metadata": {
        "colab": {
          "base_uri": "https://localhost:8080/"
        },
        "id": "HDhMHx2QUSf3",
        "outputId": "eb0e3c64-4e19-42be-d359-e552cf35c67f"
      },
      "source": [
        "ztest(tr1['y'], cn1['y'])"
      ],
      "execution_count": null,
      "outputs": [
        {
          "output_type": "execute_result",
          "data": {
            "text/plain": [
              "(9.332400850259313, 1.0349941796938945e-20)"
            ]
          },
          "metadata": {
            "tags": []
          },
          "execution_count": 30
        }
      ]
    },
    {
      "cell_type": "markdown",
      "metadata": {
        "id": "RxoI8i6NXTTE"
      },
      "source": [
        "P много меньше уровня значимости aplha, поэтому отвергаю гипотезу Н0 о равенстве средних."
      ]
    },
    {
      "cell_type": "markdown",
      "metadata": {
        "id": "JHBZj7PCXe4S"
      },
      "source": [
        "2,3) Treatment effect воздействия и его оценки"
      ]
    },
    {
      "cell_type": "markdown",
      "metadata": {
        "id": "UlB62LEgcM0z"
      },
      "source": [
        "В лекции сказано,что ATE может быть вычислен как среднее от разности таргета объекта с воздействием и таргета объекта без воздействия. Но для того, чтобы использовать эту формулу, нужно, чтобы эксперимет был рандомизирован. В рандомизированном эксперименте таргет не зависит от воздействия (в нашем случае это не так, тк средние выборок не равны). Тем не менее я не уверен, что случайность эксперимента проверяется по критерию, указанному выше, поэтому я посчитаю АТЕ как для рандомизированного эксперимента (хотя скорее всего он таким не является)."
      ]
    },
    {
      "cell_type": "code",
      "metadata": {
        "id": "rE0Rinx0igIR"
      },
      "source": [
        "ATE_rnd = tr1['y'].mean()-cn1['y'].mean() "
      ],
      "execution_count": null,
      "outputs": []
    },
    {
      "cell_type": "code",
      "metadata": {
        "colab": {
          "base_uri": "https://localhost:8080/"
        },
        "id": "iEZGLaq9j_0o",
        "outputId": "f6abd666-a06a-4fd3-8bb8-d241008a00e8"
      },
      "source": [
        "ATE_rnd"
      ],
      "execution_count": null,
      "outputs": [
        {
          "output_type": "execute_result",
          "data": {
            "text/plain": [
              "0.4001031055444413"
            ]
          },
          "metadata": {
            "tags": []
          },
          "execution_count": 85
        }
      ]
    },
    {
      "cell_type": "markdown",
      "metadata": {
        "id": "e3ZXDdzhkNu5"
      },
      "source": [
        "Так же можно найти ATE как коэффициент перед W в модели линейной регрессии."
      ]
    },
    {
      "cell_type": "code",
      "metadata": {
        "id": "UibXAYCHkBDe"
      },
      "source": [
        "from sklearn.linear_model import LinearRegression"
      ],
      "execution_count": null,
      "outputs": []
    },
    {
      "cell_type": "code",
      "metadata": {
        "colab": {
          "base_uri": "https://localhost:8080/"
        },
        "id": "ysYJ4JSQmp94",
        "outputId": "9c19f6a6-d79e-4da0-d979-218c9354e07b"
      },
      "source": [
        "model = LinearRegression()\n",
        "X = ds1.drop('y', axis=1)\n",
        "y = ds1['y']\n",
        "model.fit(X, y)"
      ],
      "execution_count": null,
      "outputs": [
        {
          "output_type": "execute_result",
          "data": {
            "text/plain": [
              "LinearRegression(copy_X=True, fit_intercept=True, n_jobs=None, normalize=False)"
            ]
          },
          "metadata": {
            "tags": []
          },
          "execution_count": 92
        }
      ]
    },
    {
      "cell_type": "code",
      "metadata": {
        "colab": {
          "base_uri": "https://localhost:8080/",
          "height": 77
        },
        "id": "AarFbdiQm8XZ",
        "outputId": "17f92d6a-8bb6-4526-9b3d-23989d7006ec"
      },
      "source": [
        "X.head(1)"
      ],
      "execution_count": null,
      "outputs": [
        {
          "output_type": "execute_result",
          "data": {
            "text/html": [
              "<div>\n",
              "<style scoped>\n",
              "    .dataframe tbody tr th:only-of-type {\n",
              "        vertical-align: middle;\n",
              "    }\n",
              "\n",
              "    .dataframe tbody tr th {\n",
              "        vertical-align: top;\n",
              "    }\n",
              "\n",
              "    .dataframe thead th {\n",
              "        text-align: right;\n",
              "    }\n",
              "</style>\n",
              "<table border=\"1\" class=\"dataframe\">\n",
              "  <thead>\n",
              "    <tr style=\"text-align: right;\">\n",
              "      <th></th>\n",
              "      <th>W</th>\n",
              "      <th>X_1</th>\n",
              "      <th>X_2</th>\n",
              "      <th>X_3</th>\n",
              "      <th>X_4</th>\n",
              "      <th>X_5</th>\n",
              "      <th>X_6</th>\n",
              "      <th>X_7</th>\n",
              "      <th>X_8</th>\n",
              "      <th>X_9</th>\n",
              "      <th>X_10</th>\n",
              "    </tr>\n",
              "  </thead>\n",
              "  <tbody>\n",
              "    <tr>\n",
              "      <th>0</th>\n",
              "      <td>0.0</td>\n",
              "      <td>0.986277</td>\n",
              "      <td>0.873392</td>\n",
              "      <td>0.509746</td>\n",
              "      <td>0.271836</td>\n",
              "      <td>0.336919</td>\n",
              "      <td>0.216954</td>\n",
              "      <td>0.276477</td>\n",
              "      <td>0.343316</td>\n",
              "      <td>0.862159</td>\n",
              "      <td>0.1567</td>\n",
              "    </tr>\n",
              "  </tbody>\n",
              "</table>\n",
              "</div>"
            ],
            "text/plain": [
              "     W       X_1       X_2       X_3  ...       X_7       X_8       X_9    X_10\n",
              "0  0.0  0.986277  0.873392  0.509746  ...  0.276477  0.343316  0.862159  0.1567\n",
              "\n",
              "[1 rows x 11 columns]"
            ]
          },
          "metadata": {
            "tags": []
          },
          "execution_count": 93
        }
      ]
    },
    {
      "cell_type": "code",
      "metadata": {
        "id": "LMHdrZqvnCtJ"
      },
      "source": [
        "ATE_linreg = model.coef_[0]"
      ],
      "execution_count": null,
      "outputs": []
    },
    {
      "cell_type": "code",
      "metadata": {
        "colab": {
          "base_uri": "https://localhost:8080/"
        },
        "id": "H9KBWy2bm26h",
        "outputId": "843d1adb-6a1a-4dbf-8661-f5e12ac2ce0d"
      },
      "source": [
        "ATE_linreg"
      ],
      "execution_count": null,
      "outputs": [
        {
          "output_type": "execute_result",
          "data": {
            "text/plain": [
              "0.5133854882565612"
            ]
          },
          "metadata": {
            "tags": []
          },
          "execution_count": 95
        }
      ]
    },
    {
      "cell_type": "markdown",
      "metadata": {
        "id": "dZemb5IhnKXY"
      },
      "source": [
        "4) Получил 2 разных значения оценки, что логично, потому что первый способ вычисления основан на том, что W не зависит от (Y(0),Y(1)). Думаю,что такая офенка АТЕ неверна. Второе значение получено с учетом остальных фичей, тк получено как коэффициент из модели линейной регрессии. При втором решении учитывается что W зависит от (Y(0),Y(1)), поэтому такая оценка точнее."
      ]
    },
    {
      "cell_type": "code",
      "metadata": {
        "colab": {
          "base_uri": "https://localhost:8080/"
        },
        "id": "EvGM4whOn_ax",
        "outputId": "6335078b-d19b-42a8-a834-9827676f719a"
      },
      "source": [
        "ATE_rnd"
      ],
      "execution_count": null,
      "outputs": [
        {
          "output_type": "execute_result",
          "data": {
            "text/plain": [
              "0.4001031055444413"
            ]
          },
          "metadata": {
            "tags": []
          },
          "execution_count": 96
        }
      ]
    },
    {
      "cell_type": "code",
      "metadata": {
        "colab": {
          "base_uri": "https://localhost:8080/"
        },
        "id": "FYrH_BHeoBvR",
        "outputId": "d679caae-ecdf-4601-cb37-a4b72be786af"
      },
      "source": [
        "ATE_linreg"
      ],
      "execution_count": null,
      "outputs": [
        {
          "output_type": "execute_result",
          "data": {
            "text/plain": [
              "0.5133854882565612"
            ]
          },
          "metadata": {
            "tags": []
          },
          "execution_count": 97
        }
      ]
    },
    {
      "cell_type": "markdown",
      "metadata": {
        "id": "-bDkShbzoDY_"
      },
      "source": [
        "5) Вывод: оценка, полученная как коэффициент модели линейной регрессии точнее, потому что не опирается на предположение, что эксперимент рандомизирован (что скорее всего не так)."
      ]
    },
    {
      "cell_type": "markdown",
      "metadata": {
        "id": "LpqdD77uIlmd"
      },
      "source": [
        "### 2. Оценка результатов AB теста с показателями до начала эксперимента"
      ]
    },
    {
      "cell_type": "markdown",
      "metadata": {
        "id": "b_OgK3JwIlmd"
      },
      "source": [
        "Необходимо как и ранее оценить результаты AB теста, а именно ATE. Вы располагаете результатами до и после проведения теста (y_0 и y_1), а также вам дан treatment assignment (W). \n",
        "\n",
        "Необходимо: \n",
        "1. Проверить все требуемые гипотезы\n",
        "2. Оценить ATE подходящим для этого случая методом (примените несколько методов)\n",
        "3. Сравнить и проанализировать результаты оценок\n",
        "4. Явно выписать выводы.\n",
        "\n",
        "Как и прежде, все предположения должны быть указаны. Визуализация результатов приветствуется.\n",
        "\n",
        "dataset_part2_students.csv"
      ]
    },
    {
      "cell_type": "code",
      "metadata": {
        "colab": {
          "base_uri": "https://localhost:8080/",
          "height": 197
        },
        "id": "F0c1kmaJoVf7",
        "outputId": "9e3dc29a-e59c-4b7e-92ba-8add3a6a13eb"
      },
      "source": [
        "ds2.head()"
      ],
      "execution_count": null,
      "outputs": [
        {
          "output_type": "execute_result",
          "data": {
            "text/html": [
              "<div>\n",
              "<style scoped>\n",
              "    .dataframe tbody tr th:only-of-type {\n",
              "        vertical-align: middle;\n",
              "    }\n",
              "\n",
              "    .dataframe tbody tr th {\n",
              "        vertical-align: top;\n",
              "    }\n",
              "\n",
              "    .dataframe thead th {\n",
              "        text-align: right;\n",
              "    }\n",
              "</style>\n",
              "<table border=\"1\" class=\"dataframe\">\n",
              "  <thead>\n",
              "    <tr style=\"text-align: right;\">\n",
              "      <th></th>\n",
              "      <th>y_1</th>\n",
              "      <th>y_0</th>\n",
              "      <th>W</th>\n",
              "      <th>X_1</th>\n",
              "      <th>X_2</th>\n",
              "      <th>X_3</th>\n",
              "      <th>X_4</th>\n",
              "      <th>X_5</th>\n",
              "      <th>X_6</th>\n",
              "      <th>X_7</th>\n",
              "      <th>X_8</th>\n",
              "      <th>X_9</th>\n",
              "      <th>X_10</th>\n",
              "    </tr>\n",
              "  </thead>\n",
              "  <tbody>\n",
              "    <tr>\n",
              "      <th>0</th>\n",
              "      <td>5.887156</td>\n",
              "      <td>2.785060</td>\n",
              "      <td>1.0</td>\n",
              "      <td>0.605978</td>\n",
              "      <td>0.733369</td>\n",
              "      <td>0.138947</td>\n",
              "      <td>0.312673</td>\n",
              "      <td>0.997243</td>\n",
              "      <td>0.128162</td>\n",
              "      <td>0.178993</td>\n",
              "      <td>0.752925</td>\n",
              "      <td>0.662161</td>\n",
              "      <td>0.784310</td>\n",
              "    </tr>\n",
              "    <tr>\n",
              "      <th>1</th>\n",
              "      <td>2.232601</td>\n",
              "      <td>5.533515</td>\n",
              "      <td>0.0</td>\n",
              "      <td>0.096894</td>\n",
              "      <td>0.058571</td>\n",
              "      <td>0.962396</td>\n",
              "      <td>0.616557</td>\n",
              "      <td>0.086630</td>\n",
              "      <td>0.561272</td>\n",
              "      <td>0.616525</td>\n",
              "      <td>0.963843</td>\n",
              "      <td>0.574304</td>\n",
              "      <td>0.371161</td>\n",
              "    </tr>\n",
              "    <tr>\n",
              "      <th>2</th>\n",
              "      <td>0.144419</td>\n",
              "      <td>0.095546</td>\n",
              "      <td>1.0</td>\n",
              "      <td>0.452145</td>\n",
              "      <td>0.201850</td>\n",
              "      <td>0.569305</td>\n",
              "      <td>0.195096</td>\n",
              "      <td>0.583704</td>\n",
              "      <td>0.476313</td>\n",
              "      <td>0.517814</td>\n",
              "      <td>0.823099</td>\n",
              "      <td>0.732225</td>\n",
              "      <td>0.069056</td>\n",
              "    </tr>\n",
              "    <tr>\n",
              "      <th>3</th>\n",
              "      <td>-2.446425</td>\n",
              "      <td>3.590472</td>\n",
              "      <td>1.0</td>\n",
              "      <td>0.672129</td>\n",
              "      <td>0.643485</td>\n",
              "      <td>0.828014</td>\n",
              "      <td>0.204469</td>\n",
              "      <td>0.617489</td>\n",
              "      <td>0.617701</td>\n",
              "      <td>0.301069</td>\n",
              "      <td>0.871741</td>\n",
              "      <td>0.589654</td>\n",
              "      <td>0.981770</td>\n",
              "    </tr>\n",
              "    <tr>\n",
              "      <th>4</th>\n",
              "      <td>2.163090</td>\n",
              "      <td>1.365405</td>\n",
              "      <td>0.0</td>\n",
              "      <td>0.442232</td>\n",
              "      <td>0.126318</td>\n",
              "      <td>0.508831</td>\n",
              "      <td>0.431786</td>\n",
              "      <td>0.915940</td>\n",
              "      <td>0.709016</td>\n",
              "      <td>0.890655</td>\n",
              "      <td>0.588886</td>\n",
              "      <td>0.636830</td>\n",
              "      <td>0.342209</td>\n",
              "    </tr>\n",
              "  </tbody>\n",
              "</table>\n",
              "</div>"
            ],
            "text/plain": [
              "        y_1       y_0    W       X_1  ...       X_7       X_8       X_9      X_10\n",
              "0  5.887156  2.785060  1.0  0.605978  ...  0.178993  0.752925  0.662161  0.784310\n",
              "1  2.232601  5.533515  0.0  0.096894  ...  0.616525  0.963843  0.574304  0.371161\n",
              "2  0.144419  0.095546  1.0  0.452145  ...  0.517814  0.823099  0.732225  0.069056\n",
              "3 -2.446425  3.590472  1.0  0.672129  ...  0.301069  0.871741  0.589654  0.981770\n",
              "4  2.163090  1.365405  0.0  0.442232  ...  0.890655  0.588886  0.636830  0.342209\n",
              "\n",
              "[5 rows x 13 columns]"
            ]
          },
          "metadata": {
            "tags": []
          },
          "execution_count": 102
        }
      ]
    },
    {
      "cell_type": "markdown",
      "metadata": {
        "id": "ISFevZa76WbF"
      },
      "source": [
        "1) Проверка гипотез"
      ]
    },
    {
      "cell_type": "markdown",
      "metadata": {
        "id": "qCnjUm6H248a"
      },
      "source": [
        "Добавляю новую фичу - разность между у1 и у0."
      ]
    },
    {
      "cell_type": "code",
      "metadata": {
        "id": "kIKNc_QdoYKt"
      },
      "source": [
        "ds2['delt'] = ds2['y_1']-ds2['y_0']"
      ],
      "execution_count": null,
      "outputs": []
    },
    {
      "cell_type": "markdown",
      "metadata": {
        "id": "PHt9Rddx3TKD"
      },
      "source": [
        "Далее так же делю на treatment и control.\n"
      ]
    },
    {
      "cell_type": "code",
      "metadata": {
        "id": "BeklRRym3Yxx"
      },
      "source": [
        "tr2 = ds2[ds2['W'] == 1]\n",
        "cn2 = ds2[ds2['W'] == 0]"
      ],
      "execution_count": null,
      "outputs": []
    },
    {
      "cell_type": "markdown",
      "metadata": {
        "id": "a4yxN3Jg5cLJ"
      },
      "source": [
        "Аналогично первому заданию сначала проверю,что выборки распределены нормально, дальше с помощью Zтеста проверю гипотезу у равенстве средних."
      ]
    },
    {
      "cell_type": "markdown",
      "metadata": {
        "id": "bRO1wRic5pIh"
      },
      "source": [
        "H0: распределение - нормальное  \n",
        "Н1: распределение - любое кроме нормального  \n",
        "Задаюсь уровнем значимости alpha = 0.05"
      ]
    },
    {
      "cell_type": "code",
      "metadata": {
        "colab": {
          "base_uri": "https://localhost:8080/"
        },
        "id": "KYGFWbgH5p2K",
        "outputId": "b4bfa8c6-4b56-4fa4-d8d4-d48b719c8933"
      },
      "source": [
        "stat, p = shapiro(tr2['delt'])\n",
        "print('Statistics={},p={}'.format(stat, p))"
      ],
      "execution_count": null,
      "outputs": [
        {
          "output_type": "stream",
          "text": [
            "Statistics=0.9996042251586914,p=0.38465145230293274\n"
          ],
          "name": "stdout"
        },
        {
          "output_type": "stream",
          "text": [
            "/usr/local/lib/python3.7/dist-packages/scipy/stats/morestats.py:1676: UserWarning: p-value may not be accurate for N > 5000.\n",
            "  warnings.warn(\"p-value may not be accurate for N > 5000.\")\n"
          ],
          "name": "stderr"
        }
      ]
    },
    {
      "cell_type": "code",
      "metadata": {
        "colab": {
          "base_uri": "https://localhost:8080/"
        },
        "id": "gJoJhdT85v0X",
        "outputId": "7f841fc9-2d77-4f08-fef5-0c87e8941d75"
      },
      "source": [
        "stat, p = shapiro(cn2['delt'])\n",
        "print('Statistics={},p={}'.format(stat, p))"
      ],
      "execution_count": null,
      "outputs": [
        {
          "output_type": "stream",
          "text": [
            "Statistics=0.9994486570358276,p=0.17446228861808777\n"
          ],
          "name": "stdout"
        }
      ]
    },
    {
      "cell_type": "markdown",
      "metadata": {
        "id": "unACa7Wn5zYI"
      },
      "source": [
        "Р больше уровня значимости, то есть нет оснований отвергать нулевую гипотезу о нормальности распределения каждой выборки."
      ]
    },
    {
      "cell_type": "markdown",
      "metadata": {
        "id": "D_l1jpu75-My"
      },
      "source": [
        "H0: средние выборок равны  \n",
        "Н1: средние выборок не равны  \n",
        "Задаюсь уровнем значимости alpha = 0.05  "
      ]
    },
    {
      "cell_type": "code",
      "metadata": {
        "colab": {
          "base_uri": "https://localhost:8080/"
        },
        "id": "v_n2-knv5y4D",
        "outputId": "21867c85-1f39-41e1-f61a-03ea74af14c8"
      },
      "source": [
        "ztest(tr2['delt'], cn2['delt'])"
      ],
      "execution_count": null,
      "outputs": [
        {
          "output_type": "execute_result",
          "data": {
            "text/plain": [
              "(9.118025905018952, 7.650513264824386e-20)"
            ]
          },
          "metadata": {
            "tags": []
          },
          "execution_count": 110
        }
      ]
    },
    {
      "cell_type": "markdown",
      "metadata": {
        "id": "I71lphL26OEN"
      },
      "source": [
        "P много меньше уровня значимости aplha, поэтому отвергаю гипотезу Н0 о равенстве средних."
      ]
    },
    {
      "cell_type": "markdown",
      "metadata": {
        "id": "i2IQDcfE6cam"
      },
      "source": [
        "2) Оценка АТЕ"
      ]
    },
    {
      "cell_type": "markdown",
      "metadata": {
        "id": "Mu330KJJ7OvX"
      },
      "source": [
        "Для оценки АТЕ применяю методы DiD, CUPED, ANCOVA"
      ]
    },
    {
      "cell_type": "markdown",
      "metadata": {
        "id": "QV6FgfD0AMAc"
      },
      "source": [
        "2.1) DiD"
      ]
    },
    {
      "cell_type": "markdown",
      "metadata": {
        "id": "2nj2LxjMASrI"
      },
      "source": [
        "Использую формулу y = betI(T=1)+gamI(W=1)+tetI(T=1)I(W=1)  Пересоберу датасет,чтобы он соответствовал формуле."
      ]
    },
    {
      "cell_type": "code",
      "metadata": {
        "colab": {
          "base_uri": "https://localhost:8080/"
        },
        "id": "pMJdr1TdAOIv",
        "outputId": "122fc229-cbcc-4162-ce9d-6e9954086de2"
      },
      "source": [
        "#первый датасет, Т=0\n",
        "d1 = ds2[['y_0','W']]\n",
        "d1.columns = ['Y','W']\n",
        "d1['T'] = 0\n",
        "d1['WT'] = d1['T']*d1['W']"
      ],
      "execution_count": null,
      "outputs": [
        {
          "output_type": "stream",
          "text": [
            "/usr/local/lib/python3.7/dist-packages/ipykernel_launcher.py:4: SettingWithCopyWarning: \n",
            "A value is trying to be set on a copy of a slice from a DataFrame.\n",
            "Try using .loc[row_indexer,col_indexer] = value instead\n",
            "\n",
            "See the caveats in the documentation: https://pandas.pydata.org/pandas-docs/stable/user_guide/indexing.html#returning-a-view-versus-a-copy\n",
            "  after removing the cwd from sys.path.\n",
            "/usr/local/lib/python3.7/dist-packages/ipykernel_launcher.py:5: SettingWithCopyWarning: \n",
            "A value is trying to be set on a copy of a slice from a DataFrame.\n",
            "Try using .loc[row_indexer,col_indexer] = value instead\n",
            "\n",
            "See the caveats in the documentation: https://pandas.pydata.org/pandas-docs/stable/user_guide/indexing.html#returning-a-view-versus-a-copy\n",
            "  \"\"\"\n"
          ],
          "name": "stderr"
        }
      ]
    },
    {
      "cell_type": "code",
      "metadata": {
        "colab": {
          "base_uri": "https://localhost:8080/"
        },
        "id": "VMFEyqTRD86T",
        "outputId": "4f3ede31-d362-4d1f-8ad3-58f157a5cde2"
      },
      "source": [
        "#второй датасет, Т=1\n",
        "d2 = ds2[['y_1','W']]\n",
        "d2.columns = ['Y','W']\n",
        "d2['T'] = 1\n",
        "d2['WT'] = d2['T']*d2['W']"
      ],
      "execution_count": null,
      "outputs": [
        {
          "output_type": "stream",
          "text": [
            "/usr/local/lib/python3.7/dist-packages/ipykernel_launcher.py:4: SettingWithCopyWarning: \n",
            "A value is trying to be set on a copy of a slice from a DataFrame.\n",
            "Try using .loc[row_indexer,col_indexer] = value instead\n",
            "\n",
            "See the caveats in the documentation: https://pandas.pydata.org/pandas-docs/stable/user_guide/indexing.html#returning-a-view-versus-a-copy\n",
            "  after removing the cwd from sys.path.\n",
            "/usr/local/lib/python3.7/dist-packages/ipykernel_launcher.py:5: SettingWithCopyWarning: \n",
            "A value is trying to be set on a copy of a slice from a DataFrame.\n",
            "Try using .loc[row_indexer,col_indexer] = value instead\n",
            "\n",
            "See the caveats in the documentation: https://pandas.pydata.org/pandas-docs/stable/user_guide/indexing.html#returning-a-view-versus-a-copy\n",
            "  \"\"\"\n"
          ],
          "name": "stderr"
        }
      ]
    },
    {
      "cell_type": "code",
      "metadata": {
        "id": "olYDokGe6FuR"
      },
      "source": [
        "did_ds = pd.concat([d1,d2])"
      ],
      "execution_count": null,
      "outputs": []
    },
    {
      "cell_type": "code",
      "metadata": {
        "colab": {
          "base_uri": "https://localhost:8080/",
          "height": 197
        },
        "id": "NFLXjCYFFQTj",
        "outputId": "ca86db1b-2c8d-4562-9b8f-92743ffd4fd7"
      },
      "source": [
        "did_ds.head()"
      ],
      "execution_count": null,
      "outputs": [
        {
          "output_type": "execute_result",
          "data": {
            "text/html": [
              "<div>\n",
              "<style scoped>\n",
              "    .dataframe tbody tr th:only-of-type {\n",
              "        vertical-align: middle;\n",
              "    }\n",
              "\n",
              "    .dataframe tbody tr th {\n",
              "        vertical-align: top;\n",
              "    }\n",
              "\n",
              "    .dataframe thead th {\n",
              "        text-align: right;\n",
              "    }\n",
              "</style>\n",
              "<table border=\"1\" class=\"dataframe\">\n",
              "  <thead>\n",
              "    <tr style=\"text-align: right;\">\n",
              "      <th></th>\n",
              "      <th>Y</th>\n",
              "      <th>W</th>\n",
              "      <th>T</th>\n",
              "      <th>WT</th>\n",
              "    </tr>\n",
              "  </thead>\n",
              "  <tbody>\n",
              "    <tr>\n",
              "      <th>0</th>\n",
              "      <td>2.785060</td>\n",
              "      <td>1.0</td>\n",
              "      <td>0</td>\n",
              "      <td>0.0</td>\n",
              "    </tr>\n",
              "    <tr>\n",
              "      <th>1</th>\n",
              "      <td>5.533515</td>\n",
              "      <td>0.0</td>\n",
              "      <td>0</td>\n",
              "      <td>0.0</td>\n",
              "    </tr>\n",
              "    <tr>\n",
              "      <th>2</th>\n",
              "      <td>0.095546</td>\n",
              "      <td>1.0</td>\n",
              "      <td>0</td>\n",
              "      <td>0.0</td>\n",
              "    </tr>\n",
              "    <tr>\n",
              "      <th>3</th>\n",
              "      <td>3.590472</td>\n",
              "      <td>1.0</td>\n",
              "      <td>0</td>\n",
              "      <td>0.0</td>\n",
              "    </tr>\n",
              "    <tr>\n",
              "      <th>4</th>\n",
              "      <td>1.365405</td>\n",
              "      <td>0.0</td>\n",
              "      <td>0</td>\n",
              "      <td>0.0</td>\n",
              "    </tr>\n",
              "  </tbody>\n",
              "</table>\n",
              "</div>"
            ],
            "text/plain": [
              "          Y    W  T   WT\n",
              "0  2.785060  1.0  0  0.0\n",
              "1  5.533515  0.0  0  0.0\n",
              "2  0.095546  1.0  0  0.0\n",
              "3  3.590472  1.0  0  0.0\n",
              "4  1.365405  0.0  0  0.0"
            ]
          },
          "metadata": {
            "tags": []
          },
          "execution_count": 127
        }
      ]
    },
    {
      "cell_type": "code",
      "metadata": {
        "id": "5N9HUdq7FXkP"
      },
      "source": [
        "formula = 'Y ~ C(T) + C(W) + C(WT)'"
      ],
      "execution_count": null,
      "outputs": []
    },
    {
      "cell_type": "code",
      "metadata": {
        "id": "JVptYyvvFr_o"
      },
      "source": [
        "import statsmodels.formula.api as smf"
      ],
      "execution_count": null,
      "outputs": []
    },
    {
      "cell_type": "code",
      "metadata": {
        "colab": {
          "base_uri": "https://localhost:8080/",
          "height": 465
        },
        "id": "Sk_wBotxFWJv",
        "outputId": "3cbf2f4e-4371-4107-ca1c-6fa5f29df4e0"
      },
      "source": [
        "did = smf.ols(formula=formula, data=did_ds).fit()\n",
        "did.summary()"
      ],
      "execution_count": null,
      "outputs": [
        {
          "output_type": "execute_result",
          "data": {
            "text/html": [
              "<table class=\"simpletable\">\n",
              "<caption>OLS Regression Results</caption>\n",
              "<tr>\n",
              "  <th>Dep. Variable:</th>            <td>Y</td>        <th>  R-squared:         </th> <td>   0.092</td> \n",
              "</tr>\n",
              "<tr>\n",
              "  <th>Model:</th>                   <td>OLS</td>       <th>  Adj. R-squared:    </th> <td>   0.092</td> \n",
              "</tr>\n",
              "<tr>\n",
              "  <th>Method:</th>             <td>Least Squares</td>  <th>  F-statistic:       </th> <td>   676.8</td> \n",
              "</tr>\n",
              "<tr>\n",
              "  <th>Date:</th>             <td>Wed, 26 May 2021</td> <th>  Prob (F-statistic):</th>  <td>  0.00</td>  \n",
              "</tr>\n",
              "<tr>\n",
              "  <th>Time:</th>                 <td>15:19:58</td>     <th>  Log-Likelihood:    </th> <td> -43972.</td> \n",
              "</tr>\n",
              "<tr>\n",
              "  <th>No. Observations:</th>      <td> 20000</td>      <th>  AIC:               </th> <td>8.795e+04</td>\n",
              "</tr>\n",
              "<tr>\n",
              "  <th>Df Residuals:</th>          <td> 19996</td>      <th>  BIC:               </th> <td>8.798e+04</td>\n",
              "</tr>\n",
              "<tr>\n",
              "  <th>Df Model:</th>              <td>     3</td>      <th>                     </th>     <td> </td>    \n",
              "</tr>\n",
              "<tr>\n",
              "  <th>Covariance Type:</th>      <td>nonrobust</td>    <th>                     </th>     <td> </td>    \n",
              "</tr>\n",
              "</table>\n",
              "<table class=\"simpletable\">\n",
              "<tr>\n",
              "        <td></td>          <th>coef</th>     <th>std err</th>      <th>t</th>      <th>P>|t|</th>  <th>[0.025</th>    <th>0.975]</th>  \n",
              "</tr>\n",
              "<tr>\n",
              "  <th>Intercept</th>    <td>    0.8162</td> <td>    0.032</td> <td>   25.820</td> <td> 0.000</td> <td>    0.754</td> <td>    0.878</td>\n",
              "</tr>\n",
              "<tr>\n",
              "  <th>C(T)[T.1]</th>    <td>    1.0624</td> <td>    0.045</td> <td>   23.764</td> <td> 0.000</td> <td>    0.975</td> <td>    1.150</td>\n",
              "</tr>\n",
              "<tr>\n",
              "  <th>C(W)[T.1.0]</th>  <td>   -0.1237</td> <td>    0.044</td> <td>   -2.832</td> <td> 0.005</td> <td>   -0.209</td> <td>   -0.038</td>\n",
              "</tr>\n",
              "<tr>\n",
              "  <th>C(WT)[T.1.0]</th> <td>    0.5549</td> <td>    0.062</td> <td>    8.985</td> <td> 0.000</td> <td>    0.434</td> <td>    0.676</td>\n",
              "</tr>\n",
              "</table>\n",
              "<table class=\"simpletable\">\n",
              "<tr>\n",
              "  <th>Omnibus:</th>       <td> 0.070</td> <th>  Durbin-Watson:     </th> <td>   1.985</td>\n",
              "</tr>\n",
              "<tr>\n",
              "  <th>Prob(Omnibus):</th> <td> 0.966</td> <th>  Jarque-Bera (JB):  </th> <td>   0.059</td>\n",
              "</tr>\n",
              "<tr>\n",
              "  <th>Skew:</th>          <td>-0.002</td> <th>  Prob(JB):          </th> <td>   0.971</td>\n",
              "</tr>\n",
              "<tr>\n",
              "  <th>Kurtosis:</th>      <td> 3.007</td> <th>  Cond. No.          </th> <td>    7.01</td>\n",
              "</tr>\n",
              "</table><br/><br/>Warnings:<br/>[1] Standard Errors assume that the covariance matrix of the errors is correctly specified."
            ],
            "text/plain": [
              "<class 'statsmodels.iolib.summary.Summary'>\n",
              "\"\"\"\n",
              "                            OLS Regression Results                            \n",
              "==============================================================================\n",
              "Dep. Variable:                      Y   R-squared:                       0.092\n",
              "Model:                            OLS   Adj. R-squared:                  0.092\n",
              "Method:                 Least Squares   F-statistic:                     676.8\n",
              "Date:                Wed, 26 May 2021   Prob (F-statistic):               0.00\n",
              "Time:                        15:19:58   Log-Likelihood:                -43972.\n",
              "No. Observations:               20000   AIC:                         8.795e+04\n",
              "Df Residuals:                   19996   BIC:                         8.798e+04\n",
              "Df Model:                           3                                         \n",
              "Covariance Type:            nonrobust                                         \n",
              "================================================================================\n",
              "                   coef    std err          t      P>|t|      [0.025      0.975]\n",
              "--------------------------------------------------------------------------------\n",
              "Intercept        0.8162      0.032     25.820      0.000       0.754       0.878\n",
              "C(T)[T.1]        1.0624      0.045     23.764      0.000       0.975       1.150\n",
              "C(W)[T.1.0]     -0.1237      0.044     -2.832      0.005      -0.209      -0.038\n",
              "C(WT)[T.1.0]     0.5549      0.062      8.985      0.000       0.434       0.676\n",
              "==============================================================================\n",
              "Omnibus:                        0.070   Durbin-Watson:                   1.985\n",
              "Prob(Omnibus):                  0.966   Jarque-Bera (JB):                0.059\n",
              "Skew:                          -0.002   Prob(JB):                        0.971\n",
              "Kurtosis:                       3.007   Cond. No.                         7.01\n",
              "==============================================================================\n",
              "\n",
              "Warnings:\n",
              "[1] Standard Errors assume that the covariance matrix of the errors is correctly specified.\n",
              "\"\"\""
            ]
          },
          "metadata": {
            "tags": []
          },
          "execution_count": 192
        }
      ]
    },
    {
      "cell_type": "code",
      "metadata": {
        "id": "HPsfrc4SGO_-"
      },
      "source": [
        "ATE_DiD = 0.5549 # коэф перед произведением двух индикаторов T=1 W=1"
      ],
      "execution_count": null,
      "outputs": []
    },
    {
      "cell_type": "markdown",
      "metadata": {
        "id": "Vckdy9DhGtPw"
      },
      "source": [
        "2.2) CUPED"
      ]
    },
    {
      "cell_type": "markdown",
      "metadata": {
        "id": "GG6dAUA-G7t7"
      },
      "source": [
        "Нахожу параметр тетта"
      ]
    },
    {
      "cell_type": "code",
      "metadata": {
        "id": "sf3Oe4PoGwzo"
      },
      "source": [
        "teta = (np.cov(ds2['y_1'], ds2['y_0'])/np.var(ds2['y_0']))[0][1] # на главной диагонали ковариация себя с собой, поэтому нужно взять ячейку первой строки второго столбца"
      ],
      "execution_count": null,
      "outputs": []
    },
    {
      "cell_type": "code",
      "metadata": {
        "colab": {
          "base_uri": "https://localhost:8080/"
        },
        "id": "cuGQNUFIIFNV",
        "outputId": "c2472853-94f2-4d1c-8e9a-1974ba52d80f"
      },
      "source": [
        "teta"
      ],
      "execution_count": null,
      "outputs": [
        {
          "output_type": "execute_result",
          "data": {
            "text/plain": [
              "0.02361229032310578"
            ]
          },
          "metadata": {
            "tags": []
          },
          "execution_count": 165
        }
      ]
    },
    {
      "cell_type": "code",
      "metadata": {
        "id": "2OeJEZ4cIHLj"
      },
      "source": [
        "tau_cuped = ds2['y_1'] - (ds2['y_0']-ds2['y_0'].mean())*teta"
      ],
      "execution_count": null,
      "outputs": []
    },
    {
      "cell_type": "markdown",
      "metadata": {
        "id": "F97az8_GMzNf"
      },
      "source": [
        "Не уверен,что этот шаг я делаю правильно, но я повторяю принцип метода DiD, только вместо y_1 там будет tau_cuped. Почему я так сделал? В лекции говорилось,что кьюпед - обобщение дид, которое работает без допущения о паралелльности трендов. "
      ]
    },
    {
      "cell_type": "code",
      "metadata": {
        "id": "6XVWfUxVNLOe"
      },
      "source": [
        "ds_cuped = ds2.copy(deep = True)\n",
        "ds_cuped['tau_cuped'] = tau_cuped"
      ],
      "execution_count": null,
      "outputs": []
    },
    {
      "cell_type": "code",
      "metadata": {
        "colab": {
          "base_uri": "https://localhost:8080/"
        },
        "id": "rpTEJ5sJNZ3m",
        "outputId": "d4983fa3-baf4-4d2d-c56b-e12bfbd2ec62"
      },
      "source": [
        "#первый датасет, Т=0\n",
        "d_c1 = ds_cuped[['y_0','W']]\n",
        "d_c1.columns = ['Y','W']\n",
        "d_c1['T'] = 0\n",
        "d_c1['WT'] = d_c1['T']*d_c1['W']"
      ],
      "execution_count": null,
      "outputs": [
        {
          "output_type": "stream",
          "text": [
            "/usr/local/lib/python3.7/dist-packages/ipykernel_launcher.py:4: SettingWithCopyWarning: \n",
            "A value is trying to be set on a copy of a slice from a DataFrame.\n",
            "Try using .loc[row_indexer,col_indexer] = value instead\n",
            "\n",
            "See the caveats in the documentation: https://pandas.pydata.org/pandas-docs/stable/user_guide/indexing.html#returning-a-view-versus-a-copy\n",
            "  after removing the cwd from sys.path.\n",
            "/usr/local/lib/python3.7/dist-packages/ipykernel_launcher.py:5: SettingWithCopyWarning: \n",
            "A value is trying to be set on a copy of a slice from a DataFrame.\n",
            "Try using .loc[row_indexer,col_indexer] = value instead\n",
            "\n",
            "See the caveats in the documentation: https://pandas.pydata.org/pandas-docs/stable/user_guide/indexing.html#returning-a-view-versus-a-copy\n",
            "  \"\"\"\n"
          ],
          "name": "stderr"
        }
      ]
    },
    {
      "cell_type": "code",
      "metadata": {
        "colab": {
          "base_uri": "https://localhost:8080/"
        },
        "id": "ZmTLbA_oNolO",
        "outputId": "1a43f554-5cd2-48e0-e2d3-a3cf3f7aefa5"
      },
      "source": [
        "#первый датасет, Т=1\n",
        "d_c2 = ds_cuped[['tau_cuped','W']]\n",
        "d_c2.columns = ['Y','W']\n",
        "d_c2['T'] = 1\n",
        "d_c2['WT'] = d_c2['T']*d_c2['W']"
      ],
      "execution_count": null,
      "outputs": [
        {
          "output_type": "stream",
          "text": [
            "/usr/local/lib/python3.7/dist-packages/ipykernel_launcher.py:4: SettingWithCopyWarning: \n",
            "A value is trying to be set on a copy of a slice from a DataFrame.\n",
            "Try using .loc[row_indexer,col_indexer] = value instead\n",
            "\n",
            "See the caveats in the documentation: https://pandas.pydata.org/pandas-docs/stable/user_guide/indexing.html#returning-a-view-versus-a-copy\n",
            "  after removing the cwd from sys.path.\n",
            "/usr/local/lib/python3.7/dist-packages/ipykernel_launcher.py:5: SettingWithCopyWarning: \n",
            "A value is trying to be set on a copy of a slice from a DataFrame.\n",
            "Try using .loc[row_indexer,col_indexer] = value instead\n",
            "\n",
            "See the caveats in the documentation: https://pandas.pydata.org/pandas-docs/stable/user_guide/indexing.html#returning-a-view-versus-a-copy\n",
            "  \"\"\"\n"
          ],
          "name": "stderr"
        }
      ]
    },
    {
      "cell_type": "code",
      "metadata": {
        "id": "rj3qql-iNyYO"
      },
      "source": [
        "cuped_ds = pd.concat([d_c1,d_c2])"
      ],
      "execution_count": null,
      "outputs": []
    },
    {
      "cell_type": "code",
      "metadata": {
        "colab": {
          "base_uri": "https://localhost:8080/",
          "height": 465
        },
        "id": "0FBPSt_FN-4X",
        "outputId": "d4150670-a900-462e-af3c-e4c0ca2530cf"
      },
      "source": [
        "formula = 'Y ~ C(T) + C(W) + C(WT)'\n",
        "cuped_did = smf.ols(formula=formula, data=cuped_ds).fit()\n",
        "cuped_did.summary()"
      ],
      "execution_count": null,
      "outputs": [
        {
          "output_type": "execute_result",
          "data": {
            "text/html": [
              "<table class=\"simpletable\">\n",
              "<caption>OLS Regression Results</caption>\n",
              "<tr>\n",
              "  <th>Dep. Variable:</th>            <td>Y</td>        <th>  R-squared:         </th> <td>   0.092</td> \n",
              "</tr>\n",
              "<tr>\n",
              "  <th>Model:</th>                   <td>OLS</td>       <th>  Adj. R-squared:    </th> <td>   0.092</td> \n",
              "</tr>\n",
              "<tr>\n",
              "  <th>Method:</th>             <td>Least Squares</td>  <th>  F-statistic:       </th> <td>   677.5</td> \n",
              "</tr>\n",
              "<tr>\n",
              "  <th>Date:</th>             <td>Wed, 26 May 2021</td> <th>  Prob (F-statistic):</th>  <td>  0.00</td>  \n",
              "</tr>\n",
              "<tr>\n",
              "  <th>Time:</th>                 <td>15:19:51</td>     <th>  Log-Likelihood:    </th> <td> -43968.</td> \n",
              "</tr>\n",
              "<tr>\n",
              "  <th>No. Observations:</th>      <td> 20000</td>      <th>  AIC:               </th> <td>8.794e+04</td>\n",
              "</tr>\n",
              "<tr>\n",
              "  <th>Df Residuals:</th>          <td> 19996</td>      <th>  BIC:               </th> <td>8.798e+04</td>\n",
              "</tr>\n",
              "<tr>\n",
              "  <th>Df Model:</th>              <td>     3</td>      <th>                     </th>     <td> </td>    \n",
              "</tr>\n",
              "<tr>\n",
              "  <th>Covariance Type:</th>      <td>nonrobust</td>    <th>                     </th>     <td> </td>    \n",
              "</tr>\n",
              "</table>\n",
              "<table class=\"simpletable\">\n",
              "<tr>\n",
              "        <td></td>          <th>coef</th>     <th>std err</th>      <th>t</th>      <th>P>|t|</th>  <th>[0.025</th>    <th>0.975]</th>  \n",
              "</tr>\n",
              "<tr>\n",
              "  <th>Intercept</th>    <td>    0.8162</td> <td>    0.032</td> <td>   25.825</td> <td> 0.000</td> <td>    0.754</td> <td>    0.878</td>\n",
              "</tr>\n",
              "<tr>\n",
              "  <th>C(T)[T.1]</th>    <td>    1.0608</td> <td>    0.045</td> <td>   23.734</td> <td> 0.000</td> <td>    0.973</td> <td>    1.148</td>\n",
              "</tr>\n",
              "<tr>\n",
              "  <th>C(W)[T.1.0]</th>  <td>   -0.1237</td> <td>    0.044</td> <td>   -2.832</td> <td> 0.005</td> <td>   -0.209</td> <td>   -0.038</td>\n",
              "</tr>\n",
              "<tr>\n",
              "  <th>C(WT)[T.1.0]</th> <td>    0.5578</td> <td>    0.062</td> <td>    9.034</td> <td> 0.000</td> <td>    0.437</td> <td>    0.679</td>\n",
              "</tr>\n",
              "</table>\n",
              "<table class=\"simpletable\">\n",
              "<tr>\n",
              "  <th>Omnibus:</th>       <td> 0.062</td> <th>  Durbin-Watson:     </th> <td>   1.985</td>\n",
              "</tr>\n",
              "<tr>\n",
              "  <th>Prob(Omnibus):</th> <td> 0.970</td> <th>  Jarque-Bera (JB):  </th> <td>   0.052</td>\n",
              "</tr>\n",
              "<tr>\n",
              "  <th>Skew:</th>          <td>-0.003</td> <th>  Prob(JB):          </th> <td>   0.974</td>\n",
              "</tr>\n",
              "<tr>\n",
              "  <th>Kurtosis:</th>      <td> 3.006</td> <th>  Cond. No.          </th> <td>    7.01</td>\n",
              "</tr>\n",
              "</table><br/><br/>Warnings:<br/>[1] Standard Errors assume that the covariance matrix of the errors is correctly specified."
            ],
            "text/plain": [
              "<class 'statsmodels.iolib.summary.Summary'>\n",
              "\"\"\"\n",
              "                            OLS Regression Results                            \n",
              "==============================================================================\n",
              "Dep. Variable:                      Y   R-squared:                       0.092\n",
              "Model:                            OLS   Adj. R-squared:                  0.092\n",
              "Method:                 Least Squares   F-statistic:                     677.5\n",
              "Date:                Wed, 26 May 2021   Prob (F-statistic):               0.00\n",
              "Time:                        15:19:51   Log-Likelihood:                -43968.\n",
              "No. Observations:               20000   AIC:                         8.794e+04\n",
              "Df Residuals:                   19996   BIC:                         8.798e+04\n",
              "Df Model:                           3                                         \n",
              "Covariance Type:            nonrobust                                         \n",
              "================================================================================\n",
              "                   coef    std err          t      P>|t|      [0.025      0.975]\n",
              "--------------------------------------------------------------------------------\n",
              "Intercept        0.8162      0.032     25.825      0.000       0.754       0.878\n",
              "C(T)[T.1]        1.0608      0.045     23.734      0.000       0.973       1.148\n",
              "C(W)[T.1.0]     -0.1237      0.044     -2.832      0.005      -0.209      -0.038\n",
              "C(WT)[T.1.0]     0.5578      0.062      9.034      0.000       0.437       0.679\n",
              "==============================================================================\n",
              "Omnibus:                        0.062   Durbin-Watson:                   1.985\n",
              "Prob(Omnibus):                  0.970   Jarque-Bera (JB):                0.052\n",
              "Skew:                          -0.003   Prob(JB):                        0.974\n",
              "Kurtosis:                       3.006   Cond. No.                         7.01\n",
              "==============================================================================\n",
              "\n",
              "Warnings:\n",
              "[1] Standard Errors assume that the covariance matrix of the errors is correctly specified.\n",
              "\"\"\""
            ]
          },
          "metadata": {
            "tags": []
          },
          "execution_count": 191
        }
      ]
    },
    {
      "cell_type": "code",
      "metadata": {
        "id": "CZfnj38ROJiH"
      },
      "source": [
        "ATE_cuped = 0.5578 "
      ],
      "execution_count": null,
      "outputs": []
    },
    {
      "cell_type": "markdown",
      "metadata": {
        "id": "chj55Y2VONOX"
      },
      "source": [
        "Не уверен, что нужно было поступать так, но других предположений у меня не было. Получил результат близкий к Did."
      ]
    },
    {
      "cell_type": "markdown",
      "metadata": {
        "id": "ejSKq-mEPBXS"
      },
      "source": [
        "2.3) ANCOVA"
      ]
    },
    {
      "cell_type": "code",
      "metadata": {
        "id": "BHNsltWgPK_H"
      },
      "source": [
        "ds_anc = ds2[['y_1','y_0','W']]"
      ],
      "execution_count": null,
      "outputs": []
    },
    {
      "cell_type": "code",
      "metadata": {
        "id": "vprmO2LYPTSS"
      },
      "source": [
        "ds_anc.columns = ['Y','y_0','W']\n",
        "formula = 'Y ~ y_0 + C(W)'"
      ],
      "execution_count": null,
      "outputs": []
    },
    {
      "cell_type": "code",
      "metadata": {
        "colab": {
          "base_uri": "https://localhost:8080/",
          "height": 445
        },
        "id": "67sVRYgtPF6Q",
        "outputId": "8734a981-7ad7-4506-caeb-c98f2b47d746"
      },
      "source": [
        "anc = smf.ols(formula, ds_anc).fit()\n",
        "anc.summary()"
      ],
      "execution_count": null,
      "outputs": [
        {
          "output_type": "execute_result",
          "data": {
            "text/html": [
              "<table class=\"simpletable\">\n",
              "<caption>OLS Regression Results</caption>\n",
              "<tr>\n",
              "  <th>Dep. Variable:</th>            <td>Y</td>        <th>  R-squared:         </th> <td>   0.012</td> \n",
              "</tr>\n",
              "<tr>\n",
              "  <th>Model:</th>                   <td>OLS</td>       <th>  Adj. R-squared:    </th> <td>   0.011</td> \n",
              "</tr>\n",
              "<tr>\n",
              "  <th>Method:</th>             <td>Least Squares</td>  <th>  F-statistic:       </th> <td>   58.70</td> \n",
              "</tr>\n",
              "<tr>\n",
              "  <th>Date:</th>             <td>Wed, 26 May 2021</td> <th>  Prob (F-statistic):</th> <td>4.54e-26</td> \n",
              "</tr>\n",
              "<tr>\n",
              "  <th>Time:</th>                 <td>15:19:11</td>     <th>  Log-Likelihood:    </th> <td> -21431.</td> \n",
              "</tr>\n",
              "<tr>\n",
              "  <th>No. Observations:</th>      <td> 10000</td>      <th>  AIC:               </th> <td>4.287e+04</td>\n",
              "</tr>\n",
              "<tr>\n",
              "  <th>Df Residuals:</th>          <td>  9997</td>      <th>  BIC:               </th> <td>4.289e+04</td>\n",
              "</tr>\n",
              "<tr>\n",
              "  <th>Df Model:</th>              <td>     2</td>      <th>                     </th>     <td> </td>    \n",
              "</tr>\n",
              "<tr>\n",
              "  <th>Covariance Type:</th>      <td>nonrobust</td>    <th>                     </th>     <td> </td>    \n",
              "</tr>\n",
              "</table>\n",
              "<table class=\"simpletable\">\n",
              "<tr>\n",
              "       <td></td>          <th>coef</th>     <th>std err</th>      <th>t</th>      <th>P>|t|</th>  <th>[0.025</th>    <th>0.975]</th>  \n",
              "</tr>\n",
              "<tr>\n",
              "  <th>Intercept</th>   <td>    1.8572</td> <td>    0.031</td> <td>   60.304</td> <td> 0.000</td> <td>    1.797</td> <td>    1.918</td>\n",
              "</tr>\n",
              "<tr>\n",
              "  <th>C(W)[T.1.0]</th> <td>    0.4345</td> <td>    0.041</td> <td>   10.512</td> <td> 0.000</td> <td>    0.353</td> <td>    0.516</td>\n",
              "</tr>\n",
              "<tr>\n",
              "  <th>y_0</th>         <td>    0.0262</td> <td>    0.009</td> <td>    2.905</td> <td> 0.004</td> <td>    0.009</td> <td>    0.044</td>\n",
              "</tr>\n",
              "</table>\n",
              "<table class=\"simpletable\">\n",
              "<tr>\n",
              "  <th>Omnibus:</th>       <td> 2.348</td> <th>  Durbin-Watson:     </th> <td>   1.973</td>\n",
              "</tr>\n",
              "<tr>\n",
              "  <th>Prob(Omnibus):</th> <td> 0.309</td> <th>  Jarque-Bera (JB):  </th> <td>   2.338</td>\n",
              "</tr>\n",
              "<tr>\n",
              "  <th>Skew:</th>          <td> 0.037</td> <th>  Prob(JB):          </th> <td>   0.311</td>\n",
              "</tr>\n",
              "<tr>\n",
              "  <th>Kurtosis:</th>      <td> 3.005</td> <th>  Cond. No.          </th> <td>    5.69</td>\n",
              "</tr>\n",
              "</table><br/><br/>Warnings:<br/>[1] Standard Errors assume that the covariance matrix of the errors is correctly specified."
            ],
            "text/plain": [
              "<class 'statsmodels.iolib.summary.Summary'>\n",
              "\"\"\"\n",
              "                            OLS Regression Results                            \n",
              "==============================================================================\n",
              "Dep. Variable:                      Y   R-squared:                       0.012\n",
              "Model:                            OLS   Adj. R-squared:                  0.011\n",
              "Method:                 Least Squares   F-statistic:                     58.70\n",
              "Date:                Wed, 26 May 2021   Prob (F-statistic):           4.54e-26\n",
              "Time:                        15:19:11   Log-Likelihood:                -21431.\n",
              "No. Observations:               10000   AIC:                         4.287e+04\n",
              "Df Residuals:                    9997   BIC:                         4.289e+04\n",
              "Df Model:                           2                                         \n",
              "Covariance Type:            nonrobust                                         \n",
              "===============================================================================\n",
              "                  coef    std err          t      P>|t|      [0.025      0.975]\n",
              "-------------------------------------------------------------------------------\n",
              "Intercept       1.8572      0.031     60.304      0.000       1.797       1.918\n",
              "C(W)[T.1.0]     0.4345      0.041     10.512      0.000       0.353       0.516\n",
              "y_0             0.0262      0.009      2.905      0.004       0.009       0.044\n",
              "==============================================================================\n",
              "Omnibus:                        2.348   Durbin-Watson:                   1.973\n",
              "Prob(Omnibus):                  0.309   Jarque-Bera (JB):                2.338\n",
              "Skew:                           0.037   Prob(JB):                        0.311\n",
              "Kurtosis:                       3.005   Cond. No.                         5.69\n",
              "==============================================================================\n",
              "\n",
              "Warnings:\n",
              "[1] Standard Errors assume that the covariance matrix of the errors is correctly specified.\n",
              "\"\"\""
            ]
          },
          "metadata": {
            "tags": []
          },
          "execution_count": 187
        }
      ]
    },
    {
      "cell_type": "code",
      "metadata": {
        "id": "8CW_p4_2Pm03"
      },
      "source": [
        "ATE_anc = 0.4345"
      ],
      "execution_count": null,
      "outputs": []
    },
    {
      "cell_type": "markdown",
      "metadata": {
        "id": "SFlaKINMQHW4"
      },
      "source": [
        "3,4) Сравнение оценок и вывод."
      ]
    },
    {
      "cell_type": "code",
      "metadata": {
        "colab": {
          "base_uri": "https://localhost:8080/",
          "height": 445
        },
        "id": "UoladqegQR7E",
        "outputId": "086bdc1e-4a33-4c61-8bc3-ebb6a9457c51"
      },
      "source": [
        "anc.summary()"
      ],
      "execution_count": null,
      "outputs": [
        {
          "output_type": "execute_result",
          "data": {
            "text/html": [
              "<table class=\"simpletable\">\n",
              "<caption>OLS Regression Results</caption>\n",
              "<tr>\n",
              "  <th>Dep. Variable:</th>            <td>Y</td>        <th>  R-squared:         </th> <td>   0.012</td> \n",
              "</tr>\n",
              "<tr>\n",
              "  <th>Model:</th>                   <td>OLS</td>       <th>  Adj. R-squared:    </th> <td>   0.011</td> \n",
              "</tr>\n",
              "<tr>\n",
              "  <th>Method:</th>             <td>Least Squares</td>  <th>  F-statistic:       </th> <td>   58.70</td> \n",
              "</tr>\n",
              "<tr>\n",
              "  <th>Date:</th>             <td>Wed, 26 May 2021</td> <th>  Prob (F-statistic):</th> <td>4.54e-26</td> \n",
              "</tr>\n",
              "<tr>\n",
              "  <th>Time:</th>                 <td>15:20:03</td>     <th>  Log-Likelihood:    </th> <td> -21431.</td> \n",
              "</tr>\n",
              "<tr>\n",
              "  <th>No. Observations:</th>      <td> 10000</td>      <th>  AIC:               </th> <td>4.287e+04</td>\n",
              "</tr>\n",
              "<tr>\n",
              "  <th>Df Residuals:</th>          <td>  9997</td>      <th>  BIC:               </th> <td>4.289e+04</td>\n",
              "</tr>\n",
              "<tr>\n",
              "  <th>Df Model:</th>              <td>     2</td>      <th>                     </th>     <td> </td>    \n",
              "</tr>\n",
              "<tr>\n",
              "  <th>Covariance Type:</th>      <td>nonrobust</td>    <th>                     </th>     <td> </td>    \n",
              "</tr>\n",
              "</table>\n",
              "<table class=\"simpletable\">\n",
              "<tr>\n",
              "       <td></td>          <th>coef</th>     <th>std err</th>      <th>t</th>      <th>P>|t|</th>  <th>[0.025</th>    <th>0.975]</th>  \n",
              "</tr>\n",
              "<tr>\n",
              "  <th>Intercept</th>   <td>    1.8572</td> <td>    0.031</td> <td>   60.304</td> <td> 0.000</td> <td>    1.797</td> <td>    1.918</td>\n",
              "</tr>\n",
              "<tr>\n",
              "  <th>C(W)[T.1.0]</th> <td>    0.4345</td> <td>    0.041</td> <td>   10.512</td> <td> 0.000</td> <td>    0.353</td> <td>    0.516</td>\n",
              "</tr>\n",
              "<tr>\n",
              "  <th>y_0</th>         <td>    0.0262</td> <td>    0.009</td> <td>    2.905</td> <td> 0.004</td> <td>    0.009</td> <td>    0.044</td>\n",
              "</tr>\n",
              "</table>\n",
              "<table class=\"simpletable\">\n",
              "<tr>\n",
              "  <th>Omnibus:</th>       <td> 2.348</td> <th>  Durbin-Watson:     </th> <td>   1.973</td>\n",
              "</tr>\n",
              "<tr>\n",
              "  <th>Prob(Omnibus):</th> <td> 0.309</td> <th>  Jarque-Bera (JB):  </th> <td>   2.338</td>\n",
              "</tr>\n",
              "<tr>\n",
              "  <th>Skew:</th>          <td> 0.037</td> <th>  Prob(JB):          </th> <td>   0.311</td>\n",
              "</tr>\n",
              "<tr>\n",
              "  <th>Kurtosis:</th>      <td> 3.005</td> <th>  Cond. No.          </th> <td>    5.69</td>\n",
              "</tr>\n",
              "</table><br/><br/>Warnings:<br/>[1] Standard Errors assume that the covariance matrix of the errors is correctly specified."
            ],
            "text/plain": [
              "<class 'statsmodels.iolib.summary.Summary'>\n",
              "\"\"\"\n",
              "                            OLS Regression Results                            \n",
              "==============================================================================\n",
              "Dep. Variable:                      Y   R-squared:                       0.012\n",
              "Model:                            OLS   Adj. R-squared:                  0.011\n",
              "Method:                 Least Squares   F-statistic:                     58.70\n",
              "Date:                Wed, 26 May 2021   Prob (F-statistic):           4.54e-26\n",
              "Time:                        15:20:03   Log-Likelihood:                -21431.\n",
              "No. Observations:               10000   AIC:                         4.287e+04\n",
              "Df Residuals:                    9997   BIC:                         4.289e+04\n",
              "Df Model:                           2                                         \n",
              "Covariance Type:            nonrobust                                         \n",
              "===============================================================================\n",
              "                  coef    std err          t      P>|t|      [0.025      0.975]\n",
              "-------------------------------------------------------------------------------\n",
              "Intercept       1.8572      0.031     60.304      0.000       1.797       1.918\n",
              "C(W)[T.1.0]     0.4345      0.041     10.512      0.000       0.353       0.516\n",
              "y_0             0.0262      0.009      2.905      0.004       0.009       0.044\n",
              "==============================================================================\n",
              "Omnibus:                        2.348   Durbin-Watson:                   1.973\n",
              "Prob(Omnibus):                  0.309   Jarque-Bera (JB):                2.338\n",
              "Skew:                           0.037   Prob(JB):                        0.311\n",
              "Kurtosis:                       3.005   Cond. No.                         5.69\n",
              "==============================================================================\n",
              "\n",
              "Warnings:\n",
              "[1] Standard Errors assume that the covariance matrix of the errors is correctly specified.\n",
              "\"\"\""
            ]
          },
          "metadata": {
            "tags": []
          },
          "execution_count": 193
        }
      ]
    },
    {
      "cell_type": "code",
      "metadata": {
        "colab": {
          "base_uri": "https://localhost:8080/",
          "height": 465
        },
        "id": "hj5rtrBGQVTl",
        "outputId": "af64e3d1-6562-4c28-c964-da98f2af7bd4"
      },
      "source": [
        "did.summary()"
      ],
      "execution_count": null,
      "outputs": [
        {
          "output_type": "execute_result",
          "data": {
            "text/html": [
              "<table class=\"simpletable\">\n",
              "<caption>OLS Regression Results</caption>\n",
              "<tr>\n",
              "  <th>Dep. Variable:</th>            <td>Y</td>        <th>  R-squared:         </th> <td>   0.092</td> \n",
              "</tr>\n",
              "<tr>\n",
              "  <th>Model:</th>                   <td>OLS</td>       <th>  Adj. R-squared:    </th> <td>   0.092</td> \n",
              "</tr>\n",
              "<tr>\n",
              "  <th>Method:</th>             <td>Least Squares</td>  <th>  F-statistic:       </th> <td>   676.8</td> \n",
              "</tr>\n",
              "<tr>\n",
              "  <th>Date:</th>             <td>Wed, 26 May 2021</td> <th>  Prob (F-statistic):</th>  <td>  0.00</td>  \n",
              "</tr>\n",
              "<tr>\n",
              "  <th>Time:</th>                 <td>15:20:04</td>     <th>  Log-Likelihood:    </th> <td> -43972.</td> \n",
              "</tr>\n",
              "<tr>\n",
              "  <th>No. Observations:</th>      <td> 20000</td>      <th>  AIC:               </th> <td>8.795e+04</td>\n",
              "</tr>\n",
              "<tr>\n",
              "  <th>Df Residuals:</th>          <td> 19996</td>      <th>  BIC:               </th> <td>8.798e+04</td>\n",
              "</tr>\n",
              "<tr>\n",
              "  <th>Df Model:</th>              <td>     3</td>      <th>                     </th>     <td> </td>    \n",
              "</tr>\n",
              "<tr>\n",
              "  <th>Covariance Type:</th>      <td>nonrobust</td>    <th>                     </th>     <td> </td>    \n",
              "</tr>\n",
              "</table>\n",
              "<table class=\"simpletable\">\n",
              "<tr>\n",
              "        <td></td>          <th>coef</th>     <th>std err</th>      <th>t</th>      <th>P>|t|</th>  <th>[0.025</th>    <th>0.975]</th>  \n",
              "</tr>\n",
              "<tr>\n",
              "  <th>Intercept</th>    <td>    0.8162</td> <td>    0.032</td> <td>   25.820</td> <td> 0.000</td> <td>    0.754</td> <td>    0.878</td>\n",
              "</tr>\n",
              "<tr>\n",
              "  <th>C(T)[T.1]</th>    <td>    1.0624</td> <td>    0.045</td> <td>   23.764</td> <td> 0.000</td> <td>    0.975</td> <td>    1.150</td>\n",
              "</tr>\n",
              "<tr>\n",
              "  <th>C(W)[T.1.0]</th>  <td>   -0.1237</td> <td>    0.044</td> <td>   -2.832</td> <td> 0.005</td> <td>   -0.209</td> <td>   -0.038</td>\n",
              "</tr>\n",
              "<tr>\n",
              "  <th>C(WT)[T.1.0]</th> <td>    0.5549</td> <td>    0.062</td> <td>    8.985</td> <td> 0.000</td> <td>    0.434</td> <td>    0.676</td>\n",
              "</tr>\n",
              "</table>\n",
              "<table class=\"simpletable\">\n",
              "<tr>\n",
              "  <th>Omnibus:</th>       <td> 0.070</td> <th>  Durbin-Watson:     </th> <td>   1.985</td>\n",
              "</tr>\n",
              "<tr>\n",
              "  <th>Prob(Omnibus):</th> <td> 0.966</td> <th>  Jarque-Bera (JB):  </th> <td>   0.059</td>\n",
              "</tr>\n",
              "<tr>\n",
              "  <th>Skew:</th>          <td>-0.002</td> <th>  Prob(JB):          </th> <td>   0.971</td>\n",
              "</tr>\n",
              "<tr>\n",
              "  <th>Kurtosis:</th>      <td> 3.007</td> <th>  Cond. No.          </th> <td>    7.01</td>\n",
              "</tr>\n",
              "</table><br/><br/>Warnings:<br/>[1] Standard Errors assume that the covariance matrix of the errors is correctly specified."
            ],
            "text/plain": [
              "<class 'statsmodels.iolib.summary.Summary'>\n",
              "\"\"\"\n",
              "                            OLS Regression Results                            \n",
              "==============================================================================\n",
              "Dep. Variable:                      Y   R-squared:                       0.092\n",
              "Model:                            OLS   Adj. R-squared:                  0.092\n",
              "Method:                 Least Squares   F-statistic:                     676.8\n",
              "Date:                Wed, 26 May 2021   Prob (F-statistic):               0.00\n",
              "Time:                        15:20:04   Log-Likelihood:                -43972.\n",
              "No. Observations:               20000   AIC:                         8.795e+04\n",
              "Df Residuals:                   19996   BIC:                         8.798e+04\n",
              "Df Model:                           3                                         \n",
              "Covariance Type:            nonrobust                                         \n",
              "================================================================================\n",
              "                   coef    std err          t      P>|t|      [0.025      0.975]\n",
              "--------------------------------------------------------------------------------\n",
              "Intercept        0.8162      0.032     25.820      0.000       0.754       0.878\n",
              "C(T)[T.1]        1.0624      0.045     23.764      0.000       0.975       1.150\n",
              "C(W)[T.1.0]     -0.1237      0.044     -2.832      0.005      -0.209      -0.038\n",
              "C(WT)[T.1.0]     0.5549      0.062      8.985      0.000       0.434       0.676\n",
              "==============================================================================\n",
              "Omnibus:                        0.070   Durbin-Watson:                   1.985\n",
              "Prob(Omnibus):                  0.966   Jarque-Bera (JB):                0.059\n",
              "Skew:                          -0.002   Prob(JB):                        0.971\n",
              "Kurtosis:                       3.007   Cond. No.                         7.01\n",
              "==============================================================================\n",
              "\n",
              "Warnings:\n",
              "[1] Standard Errors assume that the covariance matrix of the errors is correctly specified.\n",
              "\"\"\""
            ]
          },
          "metadata": {
            "tags": []
          },
          "execution_count": 194
        }
      ]
    },
    {
      "cell_type": "code",
      "metadata": {
        "colab": {
          "base_uri": "https://localhost:8080/",
          "height": 465
        },
        "id": "qwriD68VQxq3",
        "outputId": "96f15f3f-8e2e-4b12-e737-26a7df3e4f7f"
      },
      "source": [
        "cuped_did.summary()"
      ],
      "execution_count": null,
      "outputs": [
        {
          "output_type": "execute_result",
          "data": {
            "text/html": [
              "<table class=\"simpletable\">\n",
              "<caption>OLS Regression Results</caption>\n",
              "<tr>\n",
              "  <th>Dep. Variable:</th>            <td>Y</td>        <th>  R-squared:         </th> <td>   0.092</td> \n",
              "</tr>\n",
              "<tr>\n",
              "  <th>Model:</th>                   <td>OLS</td>       <th>  Adj. R-squared:    </th> <td>   0.092</td> \n",
              "</tr>\n",
              "<tr>\n",
              "  <th>Method:</th>             <td>Least Squares</td>  <th>  F-statistic:       </th> <td>   677.5</td> \n",
              "</tr>\n",
              "<tr>\n",
              "  <th>Date:</th>             <td>Wed, 26 May 2021</td> <th>  Prob (F-statistic):</th>  <td>  0.00</td>  \n",
              "</tr>\n",
              "<tr>\n",
              "  <th>Time:</th>                 <td>15:20:14</td>     <th>  Log-Likelihood:    </th> <td> -43968.</td> \n",
              "</tr>\n",
              "<tr>\n",
              "  <th>No. Observations:</th>      <td> 20000</td>      <th>  AIC:               </th> <td>8.794e+04</td>\n",
              "</tr>\n",
              "<tr>\n",
              "  <th>Df Residuals:</th>          <td> 19996</td>      <th>  BIC:               </th> <td>8.798e+04</td>\n",
              "</tr>\n",
              "<tr>\n",
              "  <th>Df Model:</th>              <td>     3</td>      <th>                     </th>     <td> </td>    \n",
              "</tr>\n",
              "<tr>\n",
              "  <th>Covariance Type:</th>      <td>nonrobust</td>    <th>                     </th>     <td> </td>    \n",
              "</tr>\n",
              "</table>\n",
              "<table class=\"simpletable\">\n",
              "<tr>\n",
              "        <td></td>          <th>coef</th>     <th>std err</th>      <th>t</th>      <th>P>|t|</th>  <th>[0.025</th>    <th>0.975]</th>  \n",
              "</tr>\n",
              "<tr>\n",
              "  <th>Intercept</th>    <td>    0.8162</td> <td>    0.032</td> <td>   25.825</td> <td> 0.000</td> <td>    0.754</td> <td>    0.878</td>\n",
              "</tr>\n",
              "<tr>\n",
              "  <th>C(T)[T.1]</th>    <td>    1.0608</td> <td>    0.045</td> <td>   23.734</td> <td> 0.000</td> <td>    0.973</td> <td>    1.148</td>\n",
              "</tr>\n",
              "<tr>\n",
              "  <th>C(W)[T.1.0]</th>  <td>   -0.1237</td> <td>    0.044</td> <td>   -2.832</td> <td> 0.005</td> <td>   -0.209</td> <td>   -0.038</td>\n",
              "</tr>\n",
              "<tr>\n",
              "  <th>C(WT)[T.1.0]</th> <td>    0.5578</td> <td>    0.062</td> <td>    9.034</td> <td> 0.000</td> <td>    0.437</td> <td>    0.679</td>\n",
              "</tr>\n",
              "</table>\n",
              "<table class=\"simpletable\">\n",
              "<tr>\n",
              "  <th>Omnibus:</th>       <td> 0.062</td> <th>  Durbin-Watson:     </th> <td>   1.985</td>\n",
              "</tr>\n",
              "<tr>\n",
              "  <th>Prob(Omnibus):</th> <td> 0.970</td> <th>  Jarque-Bera (JB):  </th> <td>   0.052</td>\n",
              "</tr>\n",
              "<tr>\n",
              "  <th>Skew:</th>          <td>-0.003</td> <th>  Prob(JB):          </th> <td>   0.974</td>\n",
              "</tr>\n",
              "<tr>\n",
              "  <th>Kurtosis:</th>      <td> 3.006</td> <th>  Cond. No.          </th> <td>    7.01</td>\n",
              "</tr>\n",
              "</table><br/><br/>Warnings:<br/>[1] Standard Errors assume that the covariance matrix of the errors is correctly specified."
            ],
            "text/plain": [
              "<class 'statsmodels.iolib.summary.Summary'>\n",
              "\"\"\"\n",
              "                            OLS Regression Results                            \n",
              "==============================================================================\n",
              "Dep. Variable:                      Y   R-squared:                       0.092\n",
              "Model:                            OLS   Adj. R-squared:                  0.092\n",
              "Method:                 Least Squares   F-statistic:                     677.5\n",
              "Date:                Wed, 26 May 2021   Prob (F-statistic):               0.00\n",
              "Time:                        15:20:14   Log-Likelihood:                -43968.\n",
              "No. Observations:               20000   AIC:                         8.794e+04\n",
              "Df Residuals:                   19996   BIC:                         8.798e+04\n",
              "Df Model:                           3                                         \n",
              "Covariance Type:            nonrobust                                         \n",
              "================================================================================\n",
              "                   coef    std err          t      P>|t|      [0.025      0.975]\n",
              "--------------------------------------------------------------------------------\n",
              "Intercept        0.8162      0.032     25.825      0.000       0.754       0.878\n",
              "C(T)[T.1]        1.0608      0.045     23.734      0.000       0.973       1.148\n",
              "C(W)[T.1.0]     -0.1237      0.044     -2.832      0.005      -0.209      -0.038\n",
              "C(WT)[T.1.0]     0.5578      0.062      9.034      0.000       0.437       0.679\n",
              "==============================================================================\n",
              "Omnibus:                        0.062   Durbin-Watson:                   1.985\n",
              "Prob(Omnibus):                  0.970   Jarque-Bera (JB):                0.052\n",
              "Skew:                          -0.003   Prob(JB):                        0.974\n",
              "Kurtosis:                       3.006   Cond. No.                         7.01\n",
              "==============================================================================\n",
              "\n",
              "Warnings:\n",
              "[1] Standard Errors assume that the covariance matrix of the errors is correctly specified.\n",
              "\"\"\""
            ]
          },
          "metadata": {
            "tags": []
          },
          "execution_count": 195
        }
      ]
    },
    {
      "cell_type": "markdown",
      "metadata": {
        "id": "oWgrxtKlSjP0"
      },
      "source": [
        "Полученные оценки АТЕ методом did and cuped различаются незначительно (если я правильно нашел для кьюпеда :) ). Однако в данных методах СКО выше, чем при использовании АНКОВЫ. Вывод: оценка методом ANCOVA дает наименьший разброс."
      ]
    },
    {
      "cell_type": "markdown",
      "metadata": {
        "id": "sKJ5b-_uIlme"
      },
      "source": [
        "### 3. Построение uplift модели по результатам AB теста."
      ]
    },
    {
      "cell_type": "markdown",
      "metadata": {
        "id": "9x-5UpmBIlme"
      },
      "source": [
        "Вам даны результаты AB теста для модели конверсии клиента в продукте (conversion). Конверсия может принимать значения 1 или 0, что значит - клиент подключил услугу, либо не подключил соответственно.\n",
        "\n",
        "Задача:\n",
        "1. Оцените ATE по данным.\n",
        "2. Оцените CATE для каждого наблюдения.\n",
        "3. Проставьте рекомендации к воздействию на каждый объект.\n",
        "4. Какая ожидаемая конверсия при оптимальном воздействии?\n",
        "5. Все выводы, предпосылки и методы представляйте в явном виде в ноутбуке.\n",
        "\n",
        "Визуализация результатов также будет приветствоваться.\n",
        "\n",
        "dataset_part3_students.csv"
      ]
    },
    {
      "cell_type": "code",
      "metadata": {
        "colab": {
          "base_uri": "https://localhost:8080/",
          "height": 217
        },
        "id": "8AJ8cjzcIlme",
        "outputId": "d013f202-78fb-4cb8-b5f7-2bbcddca1bc9"
      },
      "source": [
        "ds3.head()"
      ],
      "execution_count": null,
      "outputs": [
        {
          "output_type": "execute_result",
          "data": {
            "text/html": [
              "<div>\n",
              "<style scoped>\n",
              "    .dataframe tbody tr th:only-of-type {\n",
              "        vertical-align: middle;\n",
              "    }\n",
              "\n",
              "    .dataframe tbody tr th {\n",
              "        vertical-align: top;\n",
              "    }\n",
              "\n",
              "    .dataframe thead th {\n",
              "        text-align: right;\n",
              "    }\n",
              "</style>\n",
              "<table border=\"1\" class=\"dataframe\">\n",
              "  <thead>\n",
              "    <tr style=\"text-align: right;\">\n",
              "      <th></th>\n",
              "      <th>treatment</th>\n",
              "      <th>X_1</th>\n",
              "      <th>X_2</th>\n",
              "      <th>X_3</th>\n",
              "      <th>X_4</th>\n",
              "      <th>X_5</th>\n",
              "      <th>X_6</th>\n",
              "      <th>X_7</th>\n",
              "      <th>X_8</th>\n",
              "      <th>X_9</th>\n",
              "      <th>X_10</th>\n",
              "      <th>X_11</th>\n",
              "      <th>X_12</th>\n",
              "      <th>X_13</th>\n",
              "      <th>X_14</th>\n",
              "      <th>X_15</th>\n",
              "      <th>X_16</th>\n",
              "      <th>X_17</th>\n",
              "      <th>X_18</th>\n",
              "      <th>X_19</th>\n",
              "      <th>X_20</th>\n",
              "      <th>X_21</th>\n",
              "      <th>X_22</th>\n",
              "      <th>conversion</th>\n",
              "    </tr>\n",
              "  </thead>\n",
              "  <tbody>\n",
              "    <tr>\n",
              "      <th>0</th>\n",
              "      <td>control</td>\n",
              "      <td>0.034351</td>\n",
              "      <td>0.550725</td>\n",
              "      <td>-1.348524</td>\n",
              "      <td>-0.029591</td>\n",
              "      <td>0.499535</td>\n",
              "      <td>-0.412464</td>\n",
              "      <td>0.933588</td>\n",
              "      <td>-0.522954</td>\n",
              "      <td>-0.029591</td>\n",
              "      <td>-0.807218</td>\n",
              "      <td>1.318646</td>\n",
              "      <td>-0.065262</td>\n",
              "      <td>-0.956947</td>\n",
              "      <td>-0.314573</td>\n",
              "      <td>-0.879456</td>\n",
              "      <td>0.640264</td>\n",
              "      <td>1.165722</td>\n",
              "      <td>0.570495</td>\n",
              "      <td>0.529443</td>\n",
              "      <td>0.227962</td>\n",
              "      <td>1.929914</td>\n",
              "      <td>0.798664</td>\n",
              "      <td>0</td>\n",
              "    </tr>\n",
              "    <tr>\n",
              "      <th>1</th>\n",
              "      <td>control</td>\n",
              "      <td>-1.059404</td>\n",
              "      <td>0.299404</td>\n",
              "      <td>0.220273</td>\n",
              "      <td>-1.569660</td>\n",
              "      <td>1.084204</td>\n",
              "      <td>-2.167118</td>\n",
              "      <td>1.216469</td>\n",
              "      <td>-0.744547</td>\n",
              "      <td>-1.569660</td>\n",
              "      <td>-0.460971</td>\n",
              "      <td>-1.396720</td>\n",
              "      <td>0.600044</td>\n",
              "      <td>1.000000</td>\n",
              "      <td>0.303664</td>\n",
              "      <td>1.080643</td>\n",
              "      <td>2.646483</td>\n",
              "      <td>-0.329690</td>\n",
              "      <td>1.725636</td>\n",
              "      <td>1.434649</td>\n",
              "      <td>-2.064893</td>\n",
              "      <td>0.188000</td>\n",
              "      <td>-1.134651</td>\n",
              "      <td>0</td>\n",
              "    </tr>\n",
              "    <tr>\n",
              "      <th>2</th>\n",
              "      <td>control</td>\n",
              "      <td>0.051934</td>\n",
              "      <td>2.338729</td>\n",
              "      <td>-0.341017</td>\n",
              "      <td>-1.099362</td>\n",
              "      <td>0.693090</td>\n",
              "      <td>-2.424267</td>\n",
              "      <td>1.572066</td>\n",
              "      <td>-0.212798</td>\n",
              "      <td>-1.099362</td>\n",
              "      <td>-1.430502</td>\n",
              "      <td>0.469694</td>\n",
              "      <td>1.251940</td>\n",
              "      <td>0.943003</td>\n",
              "      <td>-0.083721</td>\n",
              "      <td>-1.981712</td>\n",
              "      <td>0.224777</td>\n",
              "      <td>2.038004</td>\n",
              "      <td>2.516398</td>\n",
              "      <td>2.324280</td>\n",
              "      <td>-3.182196</td>\n",
              "      <td>-0.888490</td>\n",
              "      <td>-1.402561</td>\n",
              "      <td>0</td>\n",
              "    </tr>\n",
              "    <tr>\n",
              "      <th>3</th>\n",
              "      <td>treatment</td>\n",
              "      <td>0.667770</td>\n",
              "      <td>0.539316</td>\n",
              "      <td>0.468719</td>\n",
              "      <td>-0.840885</td>\n",
              "      <td>-0.708331</td>\n",
              "      <td>0.126634</td>\n",
              "      <td>1.275854</td>\n",
              "      <td>-0.954919</td>\n",
              "      <td>-0.840885</td>\n",
              "      <td>0.408691</td>\n",
              "      <td>-0.422736</td>\n",
              "      <td>-1.593407</td>\n",
              "      <td>0.247038</td>\n",
              "      <td>-0.752011</td>\n",
              "      <td>-0.347319</td>\n",
              "      <td>-1.659402</td>\n",
              "      <td>-0.871980</td>\n",
              "      <td>-0.893513</td>\n",
              "      <td>-0.658078</td>\n",
              "      <td>-2.704997</td>\n",
              "      <td>-0.390745</td>\n",
              "      <td>-1.578004</td>\n",
              "      <td>1</td>\n",
              "    </tr>\n",
              "    <tr>\n",
              "      <th>4</th>\n",
              "      <td>control</td>\n",
              "      <td>-1.416158</td>\n",
              "      <td>2.486628</td>\n",
              "      <td>0.496402</td>\n",
              "      <td>-1.174618</td>\n",
              "      <td>2.738267</td>\n",
              "      <td>-4.756755</td>\n",
              "      <td>-0.180918</td>\n",
              "      <td>-1.281432</td>\n",
              "      <td>-1.174618</td>\n",
              "      <td>-0.243256</td>\n",
              "      <td>0.598662</td>\n",
              "      <td>0.750706</td>\n",
              "      <td>0.554053</td>\n",
              "      <td>-1.198151</td>\n",
              "      <td>-0.232961</td>\n",
              "      <td>0.948875</td>\n",
              "      <td>1.210523</td>\n",
              "      <td>1.536723</td>\n",
              "      <td>1.548610</td>\n",
              "      <td>-0.926435</td>\n",
              "      <td>0.972459</td>\n",
              "      <td>-0.711251</td>\n",
              "      <td>0</td>\n",
              "    </tr>\n",
              "  </tbody>\n",
              "</table>\n",
              "</div>"
            ],
            "text/plain": [
              "   treatment       X_1       X_2  ...      X_21      X_22  conversion\n",
              "0    control  0.034351  0.550725  ...  1.929914  0.798664           0\n",
              "1    control -1.059404  0.299404  ...  0.188000 -1.134651           0\n",
              "2    control  0.051934  2.338729  ... -0.888490 -1.402561           0\n",
              "3  treatment  0.667770  0.539316  ... -0.390745 -1.578004           1\n",
              "4    control -1.416158  2.486628  ...  0.972459 -0.711251           0\n",
              "\n",
              "[5 rows x 24 columns]"
            ]
          },
          "metadata": {
            "tags": []
          },
          "execution_count": 196
        }
      ]
    },
    {
      "cell_type": "markdown",
      "metadata": {
        "id": "CYtsU1ESViZn"
      },
      "source": [
        "Бинаризую категориальный признак treatment"
      ]
    },
    {
      "cell_type": "code",
      "metadata": {
        "id": "8vxrxjVBTYAZ"
      },
      "source": [
        "ds3['treatment'].replace({'control': 0, 'treatment': 1}, inplace=True)\n"
      ],
      "execution_count": null,
      "outputs": []
    },
    {
      "cell_type": "code",
      "metadata": {
        "colab": {
          "base_uri": "https://localhost:8080/",
          "height": 217
        },
        "id": "xbxrRlWFVyCV",
        "outputId": "b5d7c045-ae24-47b3-b4a9-c9392d6d8b8b"
      },
      "source": [
        "ds3.head()"
      ],
      "execution_count": null,
      "outputs": [
        {
          "output_type": "execute_result",
          "data": {
            "text/html": [
              "<div>\n",
              "<style scoped>\n",
              "    .dataframe tbody tr th:only-of-type {\n",
              "        vertical-align: middle;\n",
              "    }\n",
              "\n",
              "    .dataframe tbody tr th {\n",
              "        vertical-align: top;\n",
              "    }\n",
              "\n",
              "    .dataframe thead th {\n",
              "        text-align: right;\n",
              "    }\n",
              "</style>\n",
              "<table border=\"1\" class=\"dataframe\">\n",
              "  <thead>\n",
              "    <tr style=\"text-align: right;\">\n",
              "      <th></th>\n",
              "      <th>treatment</th>\n",
              "      <th>X_1</th>\n",
              "      <th>X_2</th>\n",
              "      <th>X_3</th>\n",
              "      <th>X_4</th>\n",
              "      <th>X_5</th>\n",
              "      <th>X_6</th>\n",
              "      <th>X_7</th>\n",
              "      <th>X_8</th>\n",
              "      <th>X_9</th>\n",
              "      <th>X_10</th>\n",
              "      <th>X_11</th>\n",
              "      <th>X_12</th>\n",
              "      <th>X_13</th>\n",
              "      <th>X_14</th>\n",
              "      <th>X_15</th>\n",
              "      <th>X_16</th>\n",
              "      <th>X_17</th>\n",
              "      <th>X_18</th>\n",
              "      <th>X_19</th>\n",
              "      <th>X_20</th>\n",
              "      <th>X_21</th>\n",
              "      <th>X_22</th>\n",
              "      <th>conversion</th>\n",
              "    </tr>\n",
              "  </thead>\n",
              "  <tbody>\n",
              "    <tr>\n",
              "      <th>0</th>\n",
              "      <td>0</td>\n",
              "      <td>0.034351</td>\n",
              "      <td>0.550725</td>\n",
              "      <td>-1.348524</td>\n",
              "      <td>-0.029591</td>\n",
              "      <td>0.499535</td>\n",
              "      <td>-0.412464</td>\n",
              "      <td>0.933588</td>\n",
              "      <td>-0.522954</td>\n",
              "      <td>-0.029591</td>\n",
              "      <td>-0.807218</td>\n",
              "      <td>1.318646</td>\n",
              "      <td>-0.065262</td>\n",
              "      <td>-0.956947</td>\n",
              "      <td>-0.314573</td>\n",
              "      <td>-0.879456</td>\n",
              "      <td>0.640264</td>\n",
              "      <td>1.165722</td>\n",
              "      <td>0.570495</td>\n",
              "      <td>0.529443</td>\n",
              "      <td>0.227962</td>\n",
              "      <td>1.929914</td>\n",
              "      <td>0.798664</td>\n",
              "      <td>0</td>\n",
              "    </tr>\n",
              "    <tr>\n",
              "      <th>1</th>\n",
              "      <td>0</td>\n",
              "      <td>-1.059404</td>\n",
              "      <td>0.299404</td>\n",
              "      <td>0.220273</td>\n",
              "      <td>-1.569660</td>\n",
              "      <td>1.084204</td>\n",
              "      <td>-2.167118</td>\n",
              "      <td>1.216469</td>\n",
              "      <td>-0.744547</td>\n",
              "      <td>-1.569660</td>\n",
              "      <td>-0.460971</td>\n",
              "      <td>-1.396720</td>\n",
              "      <td>0.600044</td>\n",
              "      <td>1.000000</td>\n",
              "      <td>0.303664</td>\n",
              "      <td>1.080643</td>\n",
              "      <td>2.646483</td>\n",
              "      <td>-0.329690</td>\n",
              "      <td>1.725636</td>\n",
              "      <td>1.434649</td>\n",
              "      <td>-2.064893</td>\n",
              "      <td>0.188000</td>\n",
              "      <td>-1.134651</td>\n",
              "      <td>0</td>\n",
              "    </tr>\n",
              "    <tr>\n",
              "      <th>2</th>\n",
              "      <td>0</td>\n",
              "      <td>0.051934</td>\n",
              "      <td>2.338729</td>\n",
              "      <td>-0.341017</td>\n",
              "      <td>-1.099362</td>\n",
              "      <td>0.693090</td>\n",
              "      <td>-2.424267</td>\n",
              "      <td>1.572066</td>\n",
              "      <td>-0.212798</td>\n",
              "      <td>-1.099362</td>\n",
              "      <td>-1.430502</td>\n",
              "      <td>0.469694</td>\n",
              "      <td>1.251940</td>\n",
              "      <td>0.943003</td>\n",
              "      <td>-0.083721</td>\n",
              "      <td>-1.981712</td>\n",
              "      <td>0.224777</td>\n",
              "      <td>2.038004</td>\n",
              "      <td>2.516398</td>\n",
              "      <td>2.324280</td>\n",
              "      <td>-3.182196</td>\n",
              "      <td>-0.888490</td>\n",
              "      <td>-1.402561</td>\n",
              "      <td>0</td>\n",
              "    </tr>\n",
              "    <tr>\n",
              "      <th>3</th>\n",
              "      <td>1</td>\n",
              "      <td>0.667770</td>\n",
              "      <td>0.539316</td>\n",
              "      <td>0.468719</td>\n",
              "      <td>-0.840885</td>\n",
              "      <td>-0.708331</td>\n",
              "      <td>0.126634</td>\n",
              "      <td>1.275854</td>\n",
              "      <td>-0.954919</td>\n",
              "      <td>-0.840885</td>\n",
              "      <td>0.408691</td>\n",
              "      <td>-0.422736</td>\n",
              "      <td>-1.593407</td>\n",
              "      <td>0.247038</td>\n",
              "      <td>-0.752011</td>\n",
              "      <td>-0.347319</td>\n",
              "      <td>-1.659402</td>\n",
              "      <td>-0.871980</td>\n",
              "      <td>-0.893513</td>\n",
              "      <td>-0.658078</td>\n",
              "      <td>-2.704997</td>\n",
              "      <td>-0.390745</td>\n",
              "      <td>-1.578004</td>\n",
              "      <td>1</td>\n",
              "    </tr>\n",
              "    <tr>\n",
              "      <th>4</th>\n",
              "      <td>0</td>\n",
              "      <td>-1.416158</td>\n",
              "      <td>2.486628</td>\n",
              "      <td>0.496402</td>\n",
              "      <td>-1.174618</td>\n",
              "      <td>2.738267</td>\n",
              "      <td>-4.756755</td>\n",
              "      <td>-0.180918</td>\n",
              "      <td>-1.281432</td>\n",
              "      <td>-1.174618</td>\n",
              "      <td>-0.243256</td>\n",
              "      <td>0.598662</td>\n",
              "      <td>0.750706</td>\n",
              "      <td>0.554053</td>\n",
              "      <td>-1.198151</td>\n",
              "      <td>-0.232961</td>\n",
              "      <td>0.948875</td>\n",
              "      <td>1.210523</td>\n",
              "      <td>1.536723</td>\n",
              "      <td>1.548610</td>\n",
              "      <td>-0.926435</td>\n",
              "      <td>0.972459</td>\n",
              "      <td>-0.711251</td>\n",
              "      <td>0</td>\n",
              "    </tr>\n",
              "  </tbody>\n",
              "</table>\n",
              "</div>"
            ],
            "text/plain": [
              "   treatment       X_1       X_2  ...      X_21      X_22  conversion\n",
              "0          0  0.034351  0.550725  ...  1.929914  0.798664           0\n",
              "1          0 -1.059404  0.299404  ...  0.188000 -1.134651           0\n",
              "2          0  0.051934  2.338729  ... -0.888490 -1.402561           0\n",
              "3          1  0.667770  0.539316  ... -0.390745 -1.578004           1\n",
              "4          0 -1.416158  2.486628  ...  0.972459 -0.711251           0\n",
              "\n",
              "[5 rows x 24 columns]"
            ]
          },
          "metadata": {
            "tags": []
          },
          "execution_count": 203
        }
      ]
    },
    {
      "cell_type": "markdown",
      "metadata": {
        "id": "1kYLNUbLWCuG"
      },
      "source": [
        "1) Оценка ATE"
      ]
    },
    {
      "cell_type": "markdown",
      "metadata": {
        "id": "PIfchCETWGVD"
      },
      "source": [
        "Найду АТЕ как коэф перед W в модели линейной регрессии.\n"
      ]
    },
    {
      "cell_type": "code",
      "metadata": {
        "colab": {
          "base_uri": "https://localhost:8080/"
        },
        "id": "HlKIruE8Vtmz",
        "outputId": "bea208df-8aab-4452-b430-3e68b15198b9"
      },
      "source": [
        "model3 = LinearRegression()\n",
        "X3 = ds3.drop('conversion', axis=1)\n",
        "y3 = ds3['conversion']\n",
        "model3.fit(X3, y3)"
      ],
      "execution_count": null,
      "outputs": [
        {
          "output_type": "execute_result",
          "data": {
            "text/plain": [
              "LinearRegression(copy_X=True, fit_intercept=True, n_jobs=None, normalize=False)"
            ]
          },
          "metadata": {
            "tags": []
          },
          "execution_count": 204
        }
      ]
    },
    {
      "cell_type": "code",
      "metadata": {
        "colab": {
          "base_uri": "https://localhost:8080/"
        },
        "id": "xY-UhlomWbfx",
        "outputId": "63d960c2-5f9e-4d27-fb6a-e5d9474f4fdc"
      },
      "source": [
        "ATE_3 = model3.coef_[0]\n",
        "ATE_3"
      ],
      "execution_count": null,
      "outputs": [
        {
          "output_type": "execute_result",
          "data": {
            "text/plain": [
              "0.06024252397448968"
            ]
          },
          "metadata": {
            "tags": []
          },
          "execution_count": 206
        }
      ]
    },
    {
      "cell_type": "markdown",
      "metadata": {
        "id": "mPXIJ_WbWjXI"
      },
      "source": [
        "2) Оценка CATE"
      ]
    },
    {
      "cell_type": "markdown",
      "metadata": {
        "id": "fqLi3LTUirsE"
      },
      "source": [
        "2.1) S learner"
      ]
    },
    {
      "cell_type": "code",
      "metadata": {
        "id": "WentYldxWaCs"
      },
      "source": [
        "from sklearn.ensemble import RandomForestClassifier"
      ],
      "execution_count": null,
      "outputs": []
    },
    {
      "cell_type": "code",
      "metadata": {
        "id": "R4ftCgaNlRya"
      },
      "source": [
        "X_w0 = ds3.drop('conversion',axis =1)\n",
        "X_w0['treatment'] = 0"
      ],
      "execution_count": null,
      "outputs": []
    },
    {
      "cell_type": "code",
      "metadata": {
        "id": "or91vWMjlkq9"
      },
      "source": [
        "X_w1 = ds3.drop('conversion',axis =1)\n",
        "X_w1['treatment'] = 1"
      ],
      "execution_count": null,
      "outputs": []
    },
    {
      "cell_type": "markdown",
      "metadata": {
        "id": "_GyR4W87md7_"
      },
      "source": [
        "Дальше не доделал."
      ]
    },
    {
      "cell_type": "code",
      "metadata": {
        "id": "8tI7BiebmhHm"
      },
      "source": [
        ""
      ],
      "execution_count": null,
      "outputs": []
    }
  ]
}