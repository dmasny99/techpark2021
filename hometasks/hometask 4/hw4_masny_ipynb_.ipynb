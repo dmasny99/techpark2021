{
  "nbformat": 4,
  "nbformat_minor": 0,
  "metadata": {
    "kernelspec": {
      "display_name": "Python 3",
      "language": "python",
      "name": "python3"
    },
    "language_info": {
      "codemirror_mode": {
        "name": "ipython",
        "version": 3
      },
      "file_extension": ".py",
      "mimetype": "text/x-python",
      "name": "python",
      "nbconvert_exporter": "python",
      "pygments_lexer": "ipython3",
      "version": "3.6.8"
    },
    "toc": {
      "base_numbering": 1,
      "nav_menu": {},
      "number_sections": true,
      "sideBar": true,
      "skip_h1_title": false,
      "title_cell": "Table of Contents",
      "title_sidebar": "Contents",
      "toc_cell": true,
      "toc_position": {},
      "toc_section_display": true,
      "toc_window_display": false
    },
    "colab": {
      "name": "hw4_masny.ipynb\"",
      "provenance": [],
      "collapsed_sections": [],
      "toc_visible": true
    }
  },
  "cells": [
    {
      "cell_type": "markdown",
      "metadata": {
        "toc": true,
        "id": "IHngFL_oH9Al"
      },
      "source": [
        "<h1>Table of Contents<span class=\"tocSkip\"></span></h1>\n",
        "<div class=\"toc\"><ul class=\"toc-item\"><li><span><a href=\"#Exploratory-Data-Analysis-and-Metric\" data-toc-modified-id=\"Exploratory-Data-Analysis-and-Metric-1\"><span class=\"toc-item-num\">1&nbsp;&nbsp;</span>Exploratory Data Analysis and Metric</a></span></li><li><span><a href=\"#Model\" data-toc-modified-id=\"Model-2\"><span class=\"toc-item-num\">2&nbsp;&nbsp;</span>Model</a></span></li><li><span><a href=\"#Submit\" data-toc-modified-id=\"Submit-3\"><span class=\"toc-item-num\">3&nbsp;&nbsp;</span>Submit</a></span></li><li><span><a href=\"#Homework\" data-toc-modified-id=\"Homework-4\"><span class=\"toc-item-num\">4&nbsp;&nbsp;</span>Homework</a></span></li></ul></div>"
      ]
    },
    {
      "cell_type": "code",
      "metadata": {
        "ExecuteTime": {
          "end_time": "2021-04-14T09:20:04.248094Z",
          "start_time": "2021-04-14T09:20:01.514286Z"
        },
        "id": "mFUkrbixH9As"
      },
      "source": [
        "import pandas as pd\n",
        "import matplotlib.pyplot as plt\n",
        "plt.style.use('ggplot')\n",
        "import numpy as np\n",
        "from sklearn.preprocessing  import LabelEncoder\n",
        "from sklearn.feature_extraction.text import TfidfVectorizer\n",
        "from sklearn.linear_model import SGDClassifier\n",
        "from sklearn.pipeline import Pipeline\n",
        "from sklearn.metrics import balanced_accuracy_score"
      ],
      "execution_count": null,
      "outputs": []
    },
    {
      "cell_type": "code",
      "metadata": {
        "ExecuteTime": {
          "end_time": "2021-04-14T09:20:04.825956Z",
          "start_time": "2021-04-14T09:20:04.823335Z"
        },
        "id": "_GNwk7PCH9At"
      },
      "source": [
        "SEED = 42"
      ],
      "execution_count": null,
      "outputs": []
    },
    {
      "cell_type": "markdown",
      "metadata": {
        "id": "mVvbYZJ8IS4n"
      },
      "source": [
        "Папки создавал вручную и загружал архивы тоже вручную."
      ]
    },
    {
      "cell_type": "code",
      "metadata": {
        "ExecuteTime": {
          "end_time": "2021-04-14T09:20:05.350896Z",
          "start_time": "2021-04-14T09:20:05.347797Z"
        },
        "id": "w9bWn5FVH9Au"
      },
      "source": [
        "DATA_PATH = './data/competition_data'"
      ],
      "execution_count": null,
      "outputs": []
    },
    {
      "cell_type": "markdown",
      "metadata": {
        "id": "QFwz4ytmH9Au"
      },
      "source": [
        "**[Kaggle InClass: Language Detection](https://www.kaggle.com/t/bb11ace54b1a465e91b8c3f46a840ce0)**"
      ]
    },
    {
      "cell_type": "markdown",
      "metadata": {
        "ExecuteTime": {
          "end_time": "2020-10-30T12:22:00.913789Z",
          "start_time": "2020-10-30T12:22:00.909736Z"
        },
        "id": "V9hFOVj4H9Au"
      },
      "source": [
        "# Exploratory Data Analysis and Metric"
      ]
    },
    {
      "cell_type": "code",
      "metadata": {
        "ExecuteTime": {
          "end_time": "2021-04-14T09:21:10.272384Z",
          "start_time": "2021-04-14T09:20:53.723570Z"
        },
        "id": "BVNWCoA0H9Au"
      },
      "source": [
        "train_df = pd.read_csv(f'{DATA_PATH}/train.csv.zip')\n",
        "test_df = pd.read_csv(f'{DATA_PATH}/test.csv.zip')"
      ],
      "execution_count": null,
      "outputs": []
    },
    {
      "cell_type": "code",
      "metadata": {
        "ExecuteTime": {
          "end_time": "2021-04-14T09:21:16.634662Z",
          "start_time": "2021-04-14T09:21:16.627193Z"
        },
        "id": "C86G4ClKH9Au",
        "colab": {
          "base_uri": "https://localhost:8080/"
        },
        "outputId": "cf30306d-1641-4e35-f3d9-679dd06cf181"
      },
      "source": [
        "train_df.shape, test_df.shape"
      ],
      "execution_count": null,
      "outputs": [
        {
          "output_type": "execute_result",
          "data": {
            "text/plain": [
              "((3159633, 2), (2784634, 2))"
            ]
          },
          "metadata": {
            "tags": []
          },
          "execution_count": 5
        }
      ]
    },
    {
      "cell_type": "code",
      "metadata": {
        "id": "zoZ5VAUXOD0n"
      },
      "source": [
        "# оставляю в трейне только уникальные строки \n",
        "train_df.drop_duplicates(inplace= True)"
      ],
      "execution_count": null,
      "outputs": []
    },
    {
      "cell_type": "code",
      "metadata": {
        "colab": {
          "base_uri": "https://localhost:8080/",
          "height": 497
        },
        "id": "vvuCDQjLm7F1",
        "outputId": "c41ec08e-96de-4967-ff3c-151fe803cb1f"
      },
      "source": [
        "train_df.head(15)"
      ],
      "execution_count": null,
      "outputs": [
        {
          "output_type": "execute_result",
          "data": {
            "text/html": [
              "<div>\n",
              "<style scoped>\n",
              "    .dataframe tbody tr th:only-of-type {\n",
              "        vertical-align: middle;\n",
              "    }\n",
              "\n",
              "    .dataframe tbody tr th {\n",
              "        vertical-align: top;\n",
              "    }\n",
              "\n",
              "    .dataframe thead th {\n",
              "        text-align: right;\n",
              "    }\n",
              "</style>\n",
              "<table border=\"1\" class=\"dataframe\">\n",
              "  <thead>\n",
              "    <tr style=\"text-align: right;\">\n",
              "      <th></th>\n",
              "      <th>sentence</th>\n",
              "      <th>language</th>\n",
              "    </tr>\n",
              "  </thead>\n",
              "  <tbody>\n",
              "    <tr>\n",
              "      <th>0</th>\n",
              "      <td>Pensez à la communication , le discours , les ...</td>\n",
              "      <td>fr</td>\n",
              "    </tr>\n",
              "    <tr>\n",
              "      <th>1</th>\n",
              "      <td>Můžete si ji pronajmout , vzít na splátky , ko...</td>\n",
              "      <td>cs</td>\n",
              "    </tr>\n",
              "    <tr>\n",
              "      <th>2</th>\n",
              "      <td>Každý starosta pochopil , že když mají tyto fo...</td>\n",
              "      <td>cs</td>\n",
              "    </tr>\n",
              "    <tr>\n",
              "      <th>3</th>\n",
              "      <td>Det är ytterligare bevis , men ändå — Jag krit...</td>\n",
              "      <td>sv</td>\n",
              "    </tr>\n",
              "    <tr>\n",
              "      <th>4</th>\n",
              "      <td>كان الأمر لا يصدق .</td>\n",
              "      <td>ar</td>\n",
              "    </tr>\n",
              "    <tr>\n",
              "      <th>5</th>\n",
              "      <td>Na primjer , pjesnik ga opisuje ovako .</td>\n",
              "      <td>hr</td>\n",
              "    </tr>\n",
              "    <tr>\n",
              "      <th>6</th>\n",
              "      <td>Semua rerumputan itu sekarang menutupi tanah s...</td>\n",
              "      <td>id</td>\n",
              "    </tr>\n",
              "    <tr>\n",
              "      <th>7</th>\n",
              "      <td>Det är en enorm utmaning för oss att göra det .</td>\n",
              "      <td>sv</td>\n",
              "    </tr>\n",
              "    <tr>\n",
              "      <th>8</th>\n",
              "      <td>Ono što ćete vidjeti - trebat ćete skočiti ovd...</td>\n",
              "      <td>hr</td>\n",
              "    </tr>\n",
              "    <tr>\n",
              "      <th>9</th>\n",
              "      <td>( Alqışlar ) Excel-dən istifadə etmişəm .</td>\n",
              "      <td>az</td>\n",
              "    </tr>\n",
              "    <tr>\n",
              "      <th>10</th>\n",
              "      <td>После увольнения я решил собрать своих друзей ...</td>\n",
              "      <td>ru</td>\n",
              "    </tr>\n",
              "    <tr>\n",
              "      <th>11</th>\n",
              "      <td>יכולתי בקלות למצוא את עצמי שם או ברחוב .</td>\n",
              "      <td>he</td>\n",
              "    </tr>\n",
              "    <tr>\n",
              "      <th>12</th>\n",
              "      <td>この過去の遺産と決別することが これまで以上に急務です 互いを深く隔てる社会的不平等を終わら...</td>\n",
              "      <td>ja</td>\n",
              "    </tr>\n",
              "    <tr>\n",
              "      <th>13</th>\n",
              "      <td>Ты знаешь , что это не гнев заставил моё сердц...</td>\n",
              "      <td>ru</td>\n",
              "    </tr>\n",
              "    <tr>\n",
              "      <th>14</th>\n",
              "      <td>Wie gehen wir so etwas also an ?</td>\n",
              "      <td>de</td>\n",
              "    </tr>\n",
              "  </tbody>\n",
              "</table>\n",
              "</div>"
            ],
            "text/plain": [
              "                                             sentence language\n",
              "0   Pensez à la communication , le discours , les ...       fr\n",
              "1   Můžete si ji pronajmout , vzít na splátky , ko...       cs\n",
              "2   Každý starosta pochopil , že když mají tyto fo...       cs\n",
              "3   Det är ytterligare bevis , men ändå — Jag krit...       sv\n",
              "4                                 كان الأمر لا يصدق .       ar\n",
              "5             Na primjer , pjesnik ga opisuje ovako .       hr\n",
              "6   Semua rerumputan itu sekarang menutupi tanah s...       id\n",
              "7     Det är en enorm utmaning för oss att göra det .       sv\n",
              "8   Ono što ćete vidjeti - trebat ćete skočiti ovd...       hr\n",
              "9           ( Alqışlar ) Excel-dən istifadə etmişəm .       az\n",
              "10  После увольнения я решил собрать своих друзей ...       ru\n",
              "11           יכולתי בקלות למצוא את עצמי שם או ברחוב .       he\n",
              "12  この過去の遺産と決別することが これまで以上に急務です 互いを深く隔てる社会的不平等を終わら...       ja\n",
              "13  Ты знаешь , что это не гнев заставил моё сердц...       ru\n",
              "14                   Wie gehen wir so etwas also an ?       de"
            ]
          },
          "metadata": {
            "tags": []
          },
          "execution_count": 7
        }
      ]
    },
    {
      "cell_type": "code",
      "metadata": {
        "ExecuteTime": {
          "end_time": "2021-04-14T09:21:25.547200Z",
          "start_time": "2021-04-14T09:21:25.511656Z"
        },
        "id": "9kb5ysZAH9Av",
        "colab": {
          "base_uri": "https://localhost:8080/"
        },
        "outputId": "bcddf6db-c360-4cb0-bfc5-28bde4f82228"
      },
      "source": [
        "train_df.shape"
      ],
      "execution_count": null,
      "outputs": [
        {
          "output_type": "execute_result",
          "data": {
            "text/plain": [
              "(2741628, 2)"
            ]
          },
          "metadata": {
            "tags": []
          },
          "execution_count": 8
        }
      ]
    },
    {
      "cell_type": "code",
      "metadata": {
        "ExecuteTime": {
          "end_time": "2021-04-14T09:21:35.736651Z",
          "start_time": "2021-04-14T09:21:35.417248Z"
        },
        "id": "EKLe48b_H9Av",
        "colab": {
          "base_uri": "https://localhost:8080/",
          "height": 197
        },
        "outputId": "b46c9018-ab58-4ece-9bbc-4e6f53f7f255"
      },
      "source": [
        "lang_count = (\n",
        "    train_df.language.value_counts()\n",
        "    .to_frame()\n",
        "    .reset_index()\n",
        ")\n",
        "\n",
        "lang_count.head()"
      ],
      "execution_count": null,
      "outputs": [
        {
          "output_type": "execute_result",
          "data": {
            "text/html": [
              "<div>\n",
              "<style scoped>\n",
              "    .dataframe tbody tr th:only-of-type {\n",
              "        vertical-align: middle;\n",
              "    }\n",
              "\n",
              "    .dataframe tbody tr th {\n",
              "        vertical-align: top;\n",
              "    }\n",
              "\n",
              "    .dataframe thead th {\n",
              "        text-align: right;\n",
              "    }\n",
              "</style>\n",
              "<table border=\"1\" class=\"dataframe\">\n",
              "  <thead>\n",
              "    <tr style=\"text-align: right;\">\n",
              "      <th></th>\n",
              "      <th>index</th>\n",
              "      <th>language</th>\n",
              "    </tr>\n",
              "  </thead>\n",
              "  <tbody>\n",
              "    <tr>\n",
              "      <th>0</th>\n",
              "      <td>en</td>\n",
              "      <td>130429</td>\n",
              "    </tr>\n",
              "    <tr>\n",
              "      <th>1</th>\n",
              "      <td>ar</td>\n",
              "      <td>108602</td>\n",
              "    </tr>\n",
              "    <tr>\n",
              "      <th>2</th>\n",
              "      <td>he</td>\n",
              "      <td>106957</td>\n",
              "    </tr>\n",
              "    <tr>\n",
              "      <th>3</th>\n",
              "      <td>ru</td>\n",
              "      <td>105230</td>\n",
              "    </tr>\n",
              "    <tr>\n",
              "      <th>4</th>\n",
              "      <td>ko</td>\n",
              "      <td>104060</td>\n",
              "    </tr>\n",
              "  </tbody>\n",
              "</table>\n",
              "</div>"
            ],
            "text/plain": [
              "  index  language\n",
              "0    en    130429\n",
              "1    ar    108602\n",
              "2    he    106957\n",
              "3    ru    105230\n",
              "4    ko    104060"
            ]
          },
          "metadata": {
            "tags": []
          },
          "execution_count": 9
        }
      ]
    },
    {
      "cell_type": "code",
      "metadata": {
        "id": "TEpRZTjSn7Dk",
        "colab": {
          "base_uri": "https://localhost:8080/",
          "height": 647
        },
        "outputId": "6048a10c-3a5e-442a-d673-e1b1ecac14bf"
      },
      "source": [
        "train_df.head(20)"
      ],
      "execution_count": null,
      "outputs": [
        {
          "output_type": "execute_result",
          "data": {
            "text/html": [
              "<div>\n",
              "<style scoped>\n",
              "    .dataframe tbody tr th:only-of-type {\n",
              "        vertical-align: middle;\n",
              "    }\n",
              "\n",
              "    .dataframe tbody tr th {\n",
              "        vertical-align: top;\n",
              "    }\n",
              "\n",
              "    .dataframe thead th {\n",
              "        text-align: right;\n",
              "    }\n",
              "</style>\n",
              "<table border=\"1\" class=\"dataframe\">\n",
              "  <thead>\n",
              "    <tr style=\"text-align: right;\">\n",
              "      <th></th>\n",
              "      <th>sentence</th>\n",
              "      <th>language</th>\n",
              "    </tr>\n",
              "  </thead>\n",
              "  <tbody>\n",
              "    <tr>\n",
              "      <th>0</th>\n",
              "      <td>Pensez à la communication , le discours , les ...</td>\n",
              "      <td>fr</td>\n",
              "    </tr>\n",
              "    <tr>\n",
              "      <th>1</th>\n",
              "      <td>Můžete si ji pronajmout , vzít na splátky , ko...</td>\n",
              "      <td>cs</td>\n",
              "    </tr>\n",
              "    <tr>\n",
              "      <th>2</th>\n",
              "      <td>Každý starosta pochopil , že když mají tyto fo...</td>\n",
              "      <td>cs</td>\n",
              "    </tr>\n",
              "    <tr>\n",
              "      <th>3</th>\n",
              "      <td>Det är ytterligare bevis , men ändå — Jag krit...</td>\n",
              "      <td>sv</td>\n",
              "    </tr>\n",
              "    <tr>\n",
              "      <th>4</th>\n",
              "      <td>كان الأمر لا يصدق .</td>\n",
              "      <td>ar</td>\n",
              "    </tr>\n",
              "    <tr>\n",
              "      <th>5</th>\n",
              "      <td>Na primjer , pjesnik ga opisuje ovako .</td>\n",
              "      <td>hr</td>\n",
              "    </tr>\n",
              "    <tr>\n",
              "      <th>6</th>\n",
              "      <td>Semua rerumputan itu sekarang menutupi tanah s...</td>\n",
              "      <td>id</td>\n",
              "    </tr>\n",
              "    <tr>\n",
              "      <th>7</th>\n",
              "      <td>Det är en enorm utmaning för oss att göra det .</td>\n",
              "      <td>sv</td>\n",
              "    </tr>\n",
              "    <tr>\n",
              "      <th>8</th>\n",
              "      <td>Ono što ćete vidjeti - trebat ćete skočiti ovd...</td>\n",
              "      <td>hr</td>\n",
              "    </tr>\n",
              "    <tr>\n",
              "      <th>9</th>\n",
              "      <td>( Alqışlar ) Excel-dən istifadə etmişəm .</td>\n",
              "      <td>az</td>\n",
              "    </tr>\n",
              "    <tr>\n",
              "      <th>10</th>\n",
              "      <td>После увольнения я решил собрать своих друзей ...</td>\n",
              "      <td>ru</td>\n",
              "    </tr>\n",
              "    <tr>\n",
              "      <th>11</th>\n",
              "      <td>יכולתי בקלות למצוא את עצמי שם או ברחוב .</td>\n",
              "      <td>he</td>\n",
              "    </tr>\n",
              "    <tr>\n",
              "      <th>12</th>\n",
              "      <td>この過去の遺産と決別することが これまで以上に急務です 互いを深く隔てる社会的不平等を終わら...</td>\n",
              "      <td>ja</td>\n",
              "    </tr>\n",
              "    <tr>\n",
              "      <th>13</th>\n",
              "      <td>Ты знаешь , что это не гнев заставил моё сердц...</td>\n",
              "      <td>ru</td>\n",
              "    </tr>\n",
              "    <tr>\n",
              "      <th>14</th>\n",
              "      <td>Wie gehen wir so etwas also an ?</td>\n",
              "      <td>de</td>\n",
              "    </tr>\n",
              "    <tr>\n",
              "      <th>15</th>\n",
              "      <td>Niet anders dan wanneer een hond begint te bla...</td>\n",
              "      <td>nl</td>\n",
              "    </tr>\n",
              "    <tr>\n",
              "      <th>16</th>\n",
              "      <td>فكان مصيرهم الفعلي بإنتهاء العصر الحديدي لمجتم...</td>\n",
              "      <td>ar</td>\n",
              "    </tr>\n",
              "    <tr>\n",
              "      <th>17</th>\n",
              "      <td>Och nu så är det ryckt bort från under en .</td>\n",
              "      <td>sv</td>\n",
              "    </tr>\n",
              "    <tr>\n",
              "      <th>18</th>\n",
              "      <td>所以在一大清早 ， 太陽剛剛升起的時候去找他</td>\n",
              "      <td>zh-tw</td>\n",
              "    </tr>\n",
              "    <tr>\n",
              "      <th>19</th>\n",
              "      <td>最後到達了一所 魚龍混雜的學校 。</td>\n",
              "      <td>zh-tw</td>\n",
              "    </tr>\n",
              "  </tbody>\n",
              "</table>\n",
              "</div>"
            ],
            "text/plain": [
              "                                             sentence language\n",
              "0   Pensez à la communication , le discours , les ...       fr\n",
              "1   Můžete si ji pronajmout , vzít na splátky , ko...       cs\n",
              "2   Každý starosta pochopil , že když mají tyto fo...       cs\n",
              "3   Det är ytterligare bevis , men ändå — Jag krit...       sv\n",
              "4                                 كان الأمر لا يصدق .       ar\n",
              "5             Na primjer , pjesnik ga opisuje ovako .       hr\n",
              "6   Semua rerumputan itu sekarang menutupi tanah s...       id\n",
              "7     Det är en enorm utmaning för oss att göra det .       sv\n",
              "8   Ono što ćete vidjeti - trebat ćete skočiti ovd...       hr\n",
              "9           ( Alqışlar ) Excel-dən istifadə etmişəm .       az\n",
              "10  После увольнения я решил собрать своих друзей ...       ru\n",
              "11           יכולתי בקלות למצוא את עצמי שם או ברחוב .       he\n",
              "12  この過去の遺産と決別することが これまで以上に急務です 互いを深く隔てる社会的不平等を終わら...       ja\n",
              "13  Ты знаешь , что это не гнев заставил моё сердц...       ru\n",
              "14                   Wie gehen wir so etwas also an ?       de\n",
              "15  Niet anders dan wanneer een hond begint te bla...       nl\n",
              "16  فكان مصيرهم الفعلي بإنتهاء العصر الحديدي لمجتم...       ar\n",
              "17        Och nu så är det ryckt bort från under en .       sv\n",
              "18                             所以在一大清早 ， 太陽剛剛升起的時候去找他    zh-tw\n",
              "19                                  最後到達了一所 魚龍混雜的學校 。    zh-tw"
            ]
          },
          "metadata": {
            "tags": []
          },
          "execution_count": 83
        }
      ]
    },
    {
      "cell_type": "markdown",
      "metadata": {
        "id": "5FRjtpgPX54P"
      },
      "source": [
        "Видно, что в датасете есть ошибки. Надо понять, как чистить предложения. Ячейку перезапустил уже после очистки, но там были всякие артефакты типо &#91,&quot,&apos. Просто смотрел разные строки из датасета и добавлял их в функцию cleaner, что-то убрал регулярными выражениями, но это не до конца помогло, потом просто рандомно опять прошелся и добавил Excel ну и на всякий Word в функцию."
      ]
    },
    {
      "cell_type": "markdown",
      "metadata": {
        "id": "IM9XppP-mWuT"
      },
      "source": [
        "Взял подвыборку датасета, в которой длина предложений превышает 1000 символов, на ней отладил функцию cleaner. Решил, что буду удалять из предложений все цифры и иные символы, которые бросяются в глаза при просмотре верхней ячейки."
      ]
    },
    {
      "cell_type": "code",
      "metadata": {
        "id": "f5BlwajUb2hy"
      },
      "source": [
        "import re\n",
        "def cleaner(st):\n",
        "  return re.sub(r'(^\\W+)|(\\W+$)|(\\d)|quot|apos|&|#|;|:|CG|СG|[-]|,|\\.|\\(|\\)|\\{|\\}|\\[|\\]|\\\\|\\/|—|，|一|»|«|\"|„|’|Excel|Word|、','',st)\n"
      ],
      "execution_count": null,
      "outputs": []
    },
    {
      "cell_type": "code",
      "metadata": {
        "colab": {
          "base_uri": "https://localhost:8080/"
        },
        "id": "nGOeRTDNmNm0",
        "outputId": "bda055f3-8e35-44d5-b70f-026a2eb4f2ba"
      },
      "source": [
        "lang = train_df.values[:, 1]\n",
        "lang"
      ],
      "execution_count": null,
      "outputs": [
        {
          "output_type": "execute_result",
          "data": {
            "text/plain": [
              "array(['fr', 'cs', 'cs', ..., 'it', 'pt-br', 'fr-ca'], dtype=object)"
            ]
          },
          "metadata": {
            "tags": []
          },
          "execution_count": 13
        }
      ]
    },
    {
      "cell_type": "code",
      "metadata": {
        "id": "DQalKRO_nB-y"
      },
      "source": [
        "train_df = pd.DataFrame(train_df.sentence.apply(lambda x: cleaner(x)))"
      ],
      "execution_count": null,
      "outputs": []
    },
    {
      "cell_type": "code",
      "metadata": {
        "id": "xtuCi_ZXkB3n"
      },
      "source": [
        "train_df.insert(len(train_df.columns), column = 'lang', value = lang)"
      ],
      "execution_count": null,
      "outputs": []
    },
    {
      "cell_type": "code",
      "metadata": {
        "colab": {
          "base_uri": "https://localhost:8080/",
          "height": 197
        },
        "id": "ZpRxhcRusUDV",
        "outputId": "7009c2ce-4b8b-4b68-a262-7f16e485303c"
      },
      "source": [
        "train_df.head()"
      ],
      "execution_count": null,
      "outputs": [
        {
          "output_type": "execute_result",
          "data": {
            "text/html": [
              "<div>\n",
              "<style scoped>\n",
              "    .dataframe tbody tr th:only-of-type {\n",
              "        vertical-align: middle;\n",
              "    }\n",
              "\n",
              "    .dataframe tbody tr th {\n",
              "        vertical-align: top;\n",
              "    }\n",
              "\n",
              "    .dataframe thead th {\n",
              "        text-align: right;\n",
              "    }\n",
              "</style>\n",
              "<table border=\"1\" class=\"dataframe\">\n",
              "  <thead>\n",
              "    <tr style=\"text-align: right;\">\n",
              "      <th></th>\n",
              "      <th>sentence</th>\n",
              "      <th>lang</th>\n",
              "    </tr>\n",
              "  </thead>\n",
              "  <tbody>\n",
              "    <tr>\n",
              "      <th>0</th>\n",
              "      <td>Pensez à la communication  le discours  les ge...</td>\n",
              "      <td>fr</td>\n",
              "    </tr>\n",
              "    <tr>\n",
              "      <th>1</th>\n",
              "      <td>Můžete si ji pronajmout  vzít na splátky  koup...</td>\n",
              "      <td>cs</td>\n",
              "    </tr>\n",
              "    <tr>\n",
              "      <th>2</th>\n",
              "      <td>Každý starosta pochopil  že když mají tyto for...</td>\n",
              "      <td>cs</td>\n",
              "    </tr>\n",
              "    <tr>\n",
              "      <th>3</th>\n",
              "      <td>Det är ytterligare bevis  men ändå  Jag kritis...</td>\n",
              "      <td>sv</td>\n",
              "    </tr>\n",
              "    <tr>\n",
              "      <th>4</th>\n",
              "      <td>كان الأمر لا يصدق</td>\n",
              "      <td>ar</td>\n",
              "    </tr>\n",
              "  </tbody>\n",
              "</table>\n",
              "</div>"
            ],
            "text/plain": [
              "                                            sentence lang\n",
              "0  Pensez à la communication  le discours  les ge...   fr\n",
              "1  Můžete si ji pronajmout  vzít na splátky  koup...   cs\n",
              "2  Každý starosta pochopil  že když mají tyto for...   cs\n",
              "3  Det är ytterligare bevis  men ändå  Jag kritis...   sv\n",
              "4                                  كان الأمر لا يصدق   ar"
            ]
          },
          "metadata": {
            "tags": []
          },
          "execution_count": 16
        }
      ]
    },
    {
      "cell_type": "markdown",
      "metadata": {
        "id": "maX43ZFSQpNn"
      },
      "source": [
        "После чистки данных молги получиться строки, предложения в которых пустые.Удаляю их."
      ]
    },
    {
      "cell_type": "code",
      "metadata": {
        "id": "O5sqjI7gOn-C"
      },
      "source": [
        "train_df.drop(index=train_df[train_df.sentence == ''].index,inplace = True)"
      ],
      "execution_count": null,
      "outputs": []
    },
    {
      "cell_type": "code",
      "metadata": {
        "colab": {
          "base_uri": "https://localhost:8080/"
        },
        "id": "UncKXZiNsQIS",
        "outputId": "a38576af-bac9-4c26-cf8f-2b7545307569"
      },
      "source": [
        "train_df.shape"
      ],
      "execution_count": null,
      "outputs": [
        {
          "output_type": "execute_result",
          "data": {
            "text/plain": [
              "(2741522, 2)"
            ]
          },
          "metadata": {
            "tags": []
          },
          "execution_count": 18
        }
      ]
    },
    {
      "cell_type": "code",
      "metadata": {
        "ExecuteTime": {
          "end_time": "2021-04-14T09:21:43.580282Z",
          "start_time": "2021-04-14T09:21:42.649761Z"
        },
        "id": "xOzDR__IH9Aw",
        "colab": {
          "base_uri": "https://localhost:8080/",
          "height": 1000
        },
        "outputId": "9f2fb8d1-eeef-494e-ae5b-47cc1329c995"
      },
      "source": [
        "fig, ax = plt.subplots(figsize=(8,25))\n",
        "\n",
        "ax.barh(lang_count['index'], lang_count['language'])\n",
        "ax.invert_yaxis();"
      ],
      "execution_count": null,
      "outputs": [
        {
          "output_type": "display_data",
          "data": {
            "image/png": "[encoded data removed]",
            "text/plain": [
              "<Figure size 576x1800 with 1 Axes>"
            ]
          },
          "metadata": {
            "tags": [],
            "needs_background": "light"
          }
        }
      ]
    },
    {
      "cell_type": "code",
      "metadata": {
        "ExecuteTime": {
          "end_time": "2021-04-14T09:21:53.532174Z",
          "start_time": "2021-04-14T09:21:53.520559Z"
        },
        "id": "RQQlrXe8H9Aw",
        "colab": {
          "base_uri": "https://localhost:8080/",
          "height": 107
        },
        "outputId": "61a9835c-eb3c-42ba-b695-9ecb2b322c8d"
      },
      "source": [
        "lang_count[lang_count['index'].apply(lambda x: x in {\"en\", \"kk\"})]"
      ],
      "execution_count": null,
      "outputs": [
        {
          "output_type": "execute_result",
          "data": {
            "text/html": [
              "<div>\n",
              "<style scoped>\n",
              "    .dataframe tbody tr th:only-of-type {\n",
              "        vertical-align: middle;\n",
              "    }\n",
              "\n",
              "    .dataframe tbody tr th {\n",
              "        vertical-align: top;\n",
              "    }\n",
              "\n",
              "    .dataframe thead th {\n",
              "        text-align: right;\n",
              "    }\n",
              "</style>\n",
              "<table border=\"1\" class=\"dataframe\">\n",
              "  <thead>\n",
              "    <tr style=\"text-align: right;\">\n",
              "      <th></th>\n",
              "      <th>index</th>\n",
              "      <th>language</th>\n",
              "    </tr>\n",
              "  </thead>\n",
              "  <tbody>\n",
              "    <tr>\n",
              "      <th>0</th>\n",
              "      <td>en</td>\n",
              "      <td>130429</td>\n",
              "    </tr>\n",
              "    <tr>\n",
              "      <th>58</th>\n",
              "      <td>kk</td>\n",
              "      <td>2016</td>\n",
              "    </tr>\n",
              "  </tbody>\n",
              "</table>\n",
              "</div>"
            ],
            "text/plain": [
              "   index  language\n",
              "0     en    130429\n",
              "58    kk      2016"
            ]
          },
          "metadata": {
            "tags": []
          },
          "execution_count": 21
        }
      ]
    },
    {
      "cell_type": "markdown",
      "metadata": {
        "id": "ABs8-w8DH9Aw"
      },
      "source": [
        "Датасет сильно не сбалансирован по классам, а требуется хорошее качество для всех языков, поэтому метрика в данном соревновании — взвешенная доля правильных ответов:\n",
        "\n",
        "$$ \n",
        "\\text{WeightedAccuracy}\\left(y, \\hat{y}, w\\right) = \\frac{\\displaystyle{\\sum_{i=1}^{n}} w_i \\cdot \\left(y_i == \\hat{y}_i\\right)}{\\displaystyle\\sum_{i=1}^{n} w_i } \n",
        "$$\n",
        "\n",
        "Веса выбирались обратно пропорционально количеству примеров соответствующего языка:\n",
        "$$\n",
        "w\\left(\\text{\"en\"}\\right) \\sim \\frac{1}{157655}\n",
        "$$\n",
        "$$ \\dots $$\n",
        "$$\n",
        "w\\left(\\text{\"kk\"}\\right) \\sim \\frac{1}{2046}\n",
        "$$\n",
        "\n",
        "Поэтому для валидации можно использовать [sklearn.metrics.balanced_accuracy_score](https://scikit-learn.org/stable/modules/model_evaluation.html#balanced-accuracy-score)"
      ]
    },
    {
      "cell_type": "markdown",
      "metadata": {
        "id": "3Fm8jnMsH9Ax"
      },
      "source": [
        "# Model"
      ]
    },
    {
      "cell_type": "code",
      "metadata": {
        "id": "-tvqET0ho3mM"
      },
      "source": [
        "# убрал, тк в классификаторе можно задать class weight 'balanced', который расчитывается так же + нормируется на число строк\n",
        "#weights_dict = dict(tr_df.language.value_counts().apply(lambda x: 1/x))"
      ],
      "execution_count": null,
      "outputs": []
    },
    {
      "cell_type": "code",
      "metadata": {
        "id": "ksHMCL7qytPy"
      },
      "source": [
        "# делаю стратификационную выборку из исходного датасета, тк коллаб падает из-за нехватки ОЗУ\n",
        "N = round(train_df.shape[0]/10)\n",
        "cropped_df = train_df.groupby('lang', group_keys=False).apply(lambda x: x.sample(int(np.rint(N*len(x)/len(train_df))))).sample(frac=1).reset_index(drop=True)"
      ],
      "execution_count": null,
      "outputs": []
    },
    {
      "cell_type": "code",
      "metadata": {
        "id": "ULiP2Vw9HCi3"
      },
      "source": [
        "lang_count_cropped = (\n",
        "    cropped_df.lang.value_counts()\n",
        "    .to_frame()\n",
        "    .reset_index()\n",
        ")\n",
        "\n"
      ],
      "execution_count": null,
      "outputs": []
    },
    {
      "cell_type": "code",
      "metadata": {
        "colab": {
          "base_uri": "https://localhost:8080/",
          "height": 197
        },
        "id": "ZvJ8_uo_HRDe",
        "outputId": "6d61c1ee-b554-43c6-df0d-a5d5a12e8790"
      },
      "source": [
        "lang_count_cropped.head()"
      ],
      "execution_count": null,
      "outputs": [
        {
          "output_type": "execute_result",
          "data": {
            "text/html": [
              "<div>\n",
              "<style scoped>\n",
              "    .dataframe tbody tr th:only-of-type {\n",
              "        vertical-align: middle;\n",
              "    }\n",
              "\n",
              "    .dataframe tbody tr th {\n",
              "        vertical-align: top;\n",
              "    }\n",
              "\n",
              "    .dataframe thead th {\n",
              "        text-align: right;\n",
              "    }\n",
              "</style>\n",
              "<table border=\"1\" class=\"dataframe\">\n",
              "  <thead>\n",
              "    <tr style=\"text-align: right;\">\n",
              "      <th></th>\n",
              "      <th>index</th>\n",
              "      <th>lang</th>\n",
              "    </tr>\n",
              "  </thead>\n",
              "  <tbody>\n",
              "    <tr>\n",
              "      <th>0</th>\n",
              "      <td>en</td>\n",
              "      <td>13042</td>\n",
              "    </tr>\n",
              "    <tr>\n",
              "      <th>1</th>\n",
              "      <td>ar</td>\n",
              "      <td>10860</td>\n",
              "    </tr>\n",
              "    <tr>\n",
              "      <th>2</th>\n",
              "      <td>he</td>\n",
              "      <td>10695</td>\n",
              "    </tr>\n",
              "    <tr>\n",
              "      <th>3</th>\n",
              "      <td>ru</td>\n",
              "      <td>10522</td>\n",
              "    </tr>\n",
              "    <tr>\n",
              "      <th>4</th>\n",
              "      <td>ko</td>\n",
              "      <td>10406</td>\n",
              "    </tr>\n",
              "  </tbody>\n",
              "</table>\n",
              "</div>"
            ],
            "text/plain": [
              "  index   lang\n",
              "0    en  13042\n",
              "1    ar  10860\n",
              "2    he  10695\n",
              "3    ru  10522\n",
              "4    ko  10406"
            ]
          },
          "metadata": {
            "tags": []
          },
          "execution_count": 86
        }
      ]
    },
    {
      "cell_type": "code",
      "metadata": {
        "colab": {
          "base_uri": "https://localhost:8080/",
          "height": 1000
        },
        "id": "DzOTQCcqHMSD",
        "outputId": "91cdd883-86eb-4c03-bec5-5d8540005a0d"
      },
      "source": [
        "fig, ax = plt.subplots(figsize=(8,25))\n",
        "ax.barh(lang_count_cropped['index'], lang_count_cropped['lang'],color = 'b')\n",
        "ax.invert_yaxis();"
      ],
      "execution_count": null,
      "outputs": [
        {
          "output_type": "display_data",
          "data": {
            "image/png": "[encoded data removed]",
            "text/plain": [
              "<Figure size 576x1800 with 1 Axes>"
            ]
          },
          "metadata": {
            "tags": [],
            "needs_background": "light"
          }
        }
      ]
    },
    {
      "cell_type": "markdown",
      "metadata": {
        "id": "cfhI05RKH2sp"
      },
      "source": [
        "Построил гистограмму, чтобы показать, что пропорции по каждому классу соблюдены при переходе от исходного датасета к стратифицированной выборке. Она очень даже похожа на ту, что строилась по исходным данным."
      ]
    },
    {
      "cell_type": "code",
      "metadata": {
        "colab": {
          "base_uri": "https://localhost:8080/",
          "height": 407
        },
        "id": "5oRl2DU8zDhM",
        "outputId": "9695fc8a-5bae-4613-c4c5-c33382124e4c"
      },
      "source": [
        "cropped_df"
      ],
      "execution_count": null,
      "outputs": [
        {
          "output_type": "execute_result",
          "data": {
            "text/html": [
              "<div>\n",
              "<style scoped>\n",
              "    .dataframe tbody tr th:only-of-type {\n",
              "        vertical-align: middle;\n",
              "    }\n",
              "\n",
              "    .dataframe tbody tr th {\n",
              "        vertical-align: top;\n",
              "    }\n",
              "\n",
              "    .dataframe thead th {\n",
              "        text-align: right;\n",
              "    }\n",
              "</style>\n",
              "<table border=\"1\" class=\"dataframe\">\n",
              "  <thead>\n",
              "    <tr style=\"text-align: right;\">\n",
              "      <th></th>\n",
              "      <th>sentence</th>\n",
              "      <th>lang</th>\n",
              "    </tr>\n",
              "  </thead>\n",
              "  <tbody>\n",
              "    <tr>\n",
              "      <th>0</th>\n",
              "      <td>很好 。 酷 。 我要的是數量</td>\n",
              "      <td>zh-tw</td>\n",
              "    </tr>\n",
              "    <tr>\n",
              "      <th>1</th>\n",
              "      <td>Gözlerinizi açın  Buna bakın</td>\n",
              "      <td>tr</td>\n",
              "    </tr>\n",
              "    <tr>\n",
              "      <th>2</th>\n",
              "      <td>คนส ่ วนใหญ ่ ที ่ อาศัยอยู ่ ที ่ นี ่ ไม ่ ว...</td>\n",
              "      <td>th</td>\n",
              "    </tr>\n",
              "    <tr>\n",
              "      <th>3</th>\n",
              "      <td>حسنا ، منذ ان كنت صغيرًا كنت أفكر في تأطير الم...</td>\n",
              "      <td>ar</td>\n",
              "    </tr>\n",
              "    <tr>\n",
              "      <th>4</th>\n",
              "      <td>זו היתה מין לולאת משוב חיובית לא מתוכננת בין ה...</td>\n",
              "      <td>he</td>\n",
              "    </tr>\n",
              "    <tr>\n",
              "      <th>...</th>\n",
              "      <td>...</td>\n",
              "      <td>...</td>\n",
              "    </tr>\n",
              "    <tr>\n",
              "      <th>274144</th>\n",
              "      <td>女子生徒に話を聞くと ファーストフード店で働くのが 人生の目標だと言うのです</td>\n",
              "      <td>ja</td>\n",
              "    </tr>\n",
              "    <tr>\n",
              "      <th>274145</th>\n",
              "      <td>Želim manje potraga u kojima je mom sinu rečen...</td>\n",
              "      <td>sr</td>\n",
              "    </tr>\n",
              "    <tr>\n",
              "      <th>274146</th>\n",
              "      <td>Donc  on ne peut pas encore supprimer complète...</td>\n",
              "      <td>fr</td>\n",
              "    </tr>\n",
              "    <tr>\n",
              "      <th>274147</th>\n",
              "      <td>这是我们在办公室里进行的工作 。 事实上  这是实时运转的</td>\n",
              "      <td>zh-cn</td>\n",
              "    </tr>\n",
              "    <tr>\n",
              "      <th>274148</th>\n",
              "      <td>It was a reference from a friend of mine to ca...</td>\n",
              "      <td>en</td>\n",
              "    </tr>\n",
              "  </tbody>\n",
              "</table>\n",
              "<p>274149 rows × 2 columns</p>\n",
              "</div>"
            ],
            "text/plain": [
              "                                                 sentence   lang\n",
              "0                                         很好 。 酷 。 我要的是數量  zh-tw\n",
              "1                            Gözlerinizi açın  Buna bakın     tr\n",
              "2       คนส ่ วนใหญ ่ ที ่ อาศัยอยู ่ ที ่ นี ่ ไม ่ ว...     th\n",
              "3       حسنا ، منذ ان كنت صغيرًا كنت أفكر في تأطير الم...     ar\n",
              "4       זו היתה מין לולאת משוב חיובית לא מתוכננת בין ה...     he\n",
              "...                                                   ...    ...\n",
              "274144             女子生徒に話を聞くと ファーストフード店で働くのが 人生の目標だと言うのです     ja\n",
              "274145  Želim manje potraga u kojima je mom sinu rečen...     sr\n",
              "274146  Donc  on ne peut pas encore supprimer complète...     fr\n",
              "274147                      这是我们在办公室里进行的工作 。 事实上  这是实时运转的  zh-cn\n",
              "274148  It was a reference from a friend of mine to ca...     en\n",
              "\n",
              "[274149 rows x 2 columns]"
            ]
          },
          "metadata": {
            "tags": []
          },
          "execution_count": 24
        }
      ]
    },
    {
      "cell_type": "code",
      "metadata": {
        "ExecuteTime": {
          "end_time": "2021-04-14T09:22:23.147917Z",
          "start_time": "2021-04-14T09:22:22.689929Z"
        },
        "id": "-ppCb3BbH9Ax"
      },
      "source": [
        "x = cropped_df.values[:, 0]\n",
        "label_encoder = LabelEncoder().fit(cropped_df.values[:, 1])\n",
        "y = label_encoder.transform(cropped_df.values[:, 1])"
      ],
      "execution_count": null,
      "outputs": []
    },
    {
      "cell_type": "code",
      "metadata": {
        "id": "bZaJiIeGZHfL"
      },
      "source": [
        "# буду проверять модель на отложенной выборке\n",
        "from sklearn.model_selection import train_test_split\n",
        "x_train, x_test, y_train, y_test = train_test_split(x, y, test_size=0.25, random_state=SEED)"
      ],
      "execution_count": null,
      "outputs": []
    },
    {
      "cell_type": "code",
      "metadata": {
        "ExecuteTime": {
          "end_time": "2021-04-14T09:22:30.060126Z",
          "start_time": "2021-04-14T09:22:30.056241Z"
        },
        "id": "UcxdywK2H9Ax"
      },
      "source": [
        "# возможно, gridsearch найдет параметры оптимальнее этих, но я уже не успеваю засабмитить решение (сам виноват)\n",
        "pipe = Pipeline([\n",
        "    ('vectorizer', TfidfVectorizer(lowercase=True, ngram_range=(4, 6), analyzer='char', min_df=5, max_df=0.2)), # параметры взял рандомно, но по умному надо делать grid search\n",
        "    ('model', SGDClassifier(random_state=SEED, loss='log', class_weight = 'balanced', n_jobs=-1))\n",
        "],verbose = True)"
      ],
      "execution_count": null,
      "outputs": []
    },
    {
      "cell_type": "code",
      "metadata": {
        "ExecuteTime": {
          "end_time": "2021-04-14T09:34:06.384563Z",
          "start_time": "2021-04-14T09:23:02.093410Z"
        },
        "id": "5FroEDcHH9Ax",
        "colab": {
          "base_uri": "https://localhost:8080/"
        },
        "outputId": "c720cd9e-77a9-4388-ecce-61752a0d68ce"
      },
      "source": [
        "pipe.fit(x_train, y_train)"
      ],
      "execution_count": null,
      "outputs": [
        {
          "output_type": "stream",
          "text": [
            "[Pipeline] ........ (step 1 of 2) Processing vectorizer, total= 2.2min\n",
            "[Pipeline] ............. (step 2 of 2) Processing model, total= 2.2min\n"
          ],
          "name": "stdout"
        },
        {
          "output_type": "execute_result",
          "data": {
            "text/plain": [
              "Pipeline(memory=None,\n",
              "         steps=[('vectorizer',\n",
              "                 TfidfVectorizer(analyzer='char', binary=False,\n",
              "                                 decode_error='strict',\n",
              "                                 dtype=<class 'numpy.float64'>,\n",
              "                                 encoding='utf-8', input='content',\n",
              "                                 lowercase=True, max_df=0.2, max_features=None,\n",
              "                                 min_df=5, ngram_range=(4, 6), norm='l2',\n",
              "                                 preprocessor=None, smooth_idf=True,\n",
              "                                 stop_words=None, strip_accents=None,\n",
              "                                 sublinear_tf=False,\n",
              "                                 token_patt...\n",
              "                ('model',\n",
              "                 SGDClassifier(alpha=0.0001, average=False,\n",
              "                               class_weight='balanced', early_stopping=False,\n",
              "                               epsilon=0.1, eta0=0.0, fit_intercept=True,\n",
              "                               l1_ratio=0.15, learning_rate='optimal',\n",
              "                               loss='log', max_iter=1000, n_iter_no_change=5,\n",
              "                               n_jobs=-1, penalty='l2', power_t=0.5,\n",
              "                               random_state=42, shuffle=True, tol=0.001,\n",
              "                               validation_fraction=0.1, verbose=0,\n",
              "                               warm_start=False))],\n",
              "         verbose=True)"
            ]
          },
          "metadata": {
            "tags": []
          },
          "execution_count": 29
        }
      ]
    },
    {
      "cell_type": "code",
      "metadata": {
        "ExecuteTime": {
          "end_time": "2021-04-14T09:36:01.447281Z",
          "start_time": "2021-04-14T09:34:06.394501Z"
        },
        "id": "pfWy2DI1H9Ax"
      },
      "source": [
        "predictions = pipe.predict(x_train)"
      ],
      "execution_count": null,
      "outputs": []
    },
    {
      "cell_type": "code",
      "metadata": {
        "ExecuteTime": {
          "end_time": "2021-04-14T09:36:04.250176Z",
          "start_time": "2021-04-14T09:36:01.466775Z"
        },
        "id": "qnLtPM3XH9Ay",
        "colab": {
          "base_uri": "https://localhost:8080/"
        },
        "outputId": "e6604df9-475e-4e82-cd5c-97d5cbce5f44"
      },
      "source": [
        "balanced_accuracy_score(y_train, predictions)"
      ],
      "execution_count": null,
      "outputs": [
        {
          "output_type": "execute_result",
          "data": {
            "text/plain": [
              "0.9253737760186612"
            ]
          },
          "metadata": {
            "tags": []
          },
          "execution_count": 31
        }
      ]
    },
    {
      "cell_type": "code",
      "metadata": {
        "id": "NCV6DDY6dhuX"
      },
      "source": [
        "predictions2 = pipe.predict(x_test)"
      ],
      "execution_count": null,
      "outputs": []
    },
    {
      "cell_type": "code",
      "metadata": {
        "colab": {
          "base_uri": "https://localhost:8080/"
        },
        "id": "BSpPrFgbwOzh",
        "outputId": "74dc2aa9-d002-4385-b4a7-bab6c9b3eca6"
      },
      "source": [
        "balanced_accuracy_score(y_test, predictions2)"
      ],
      "execution_count": null,
      "outputs": [
        {
          "output_type": "execute_result",
          "data": {
            "text/plain": [
              "0.8725138292468171"
            ]
          },
          "metadata": {
            "tags": []
          },
          "execution_count": 33
        }
      ]
    },
    {
      "cell_type": "markdown",
      "metadata": {
        "id": "Ev4fUu5sH9Ay"
      },
      "source": [
        "# Submit"
      ]
    },
    {
      "cell_type": "code",
      "metadata": {
        "id": "VAKC727V4wrG"
      },
      "source": [
        "test_df = pd.DataFrame(test_df.sentence.apply(lambda x: cleaner(x)))"
      ],
      "execution_count": null,
      "outputs": []
    },
    {
      "cell_type": "code",
      "metadata": {
        "id": "b0NAeGyi22BB"
      },
      "source": [
        "batch1 = test_df[:test_df.shape[0]//5]\n",
        "batch2 = test_df[test_df.shape[0]//5:test_df.shape[0]*2//5]\n",
        "batch3 = test_df[test_df.shape[0]*2//5:test_df.shape[0]*3//5]\n",
        "batch4 = test_df[test_df.shape[0]*3//5:test_df.shape[0]*4//5]\n",
        "batch5 = test_df[test_df.shape[0]*4//5:]"
      ],
      "execution_count": null,
      "outputs": []
    },
    {
      "cell_type": "code",
      "metadata": {
        "id": "Vjo8FRwM4IVm"
      },
      "source": [
        "prediction_batch1 = pipe.predict(batch1.sentence.values)\n",
        "prediction_batch2 = pipe.predict(batch2.sentence.values)\n",
        "prediction_batch3 = pipe.predict(batch3.sentence.values)\n",
        "prediction_batch4 = pipe.predict(batch4.sentence.values)\n",
        "prediction_batch5 = pipe.predict(batch5.sentence.values)"
      ],
      "execution_count": null,
      "outputs": []
    },
    {
      "cell_type": "code",
      "metadata": {
        "ExecuteTime": {
          "end_time": "2021-04-14T09:37:56.332183Z",
          "start_time": "2021-04-14T09:37:56.107040Z"
        },
        "id": "d_HtTt71H9Ay",
        "colab": {
          "base_uri": "https://localhost:8080/"
        },
        "outputId": "4a4b62b7-922d-4ef8-df39-41c003106854"
      },
      "source": [
        "batch1['language'] = label_encoder.classes_[prediction_batch1]\n",
        "batch2['language'] = label_encoder.classes_[prediction_batch2]\n",
        "batch3['language'] = label_encoder.classes_[prediction_batch3]\n",
        "batch4['language'] = label_encoder.classes_[prediction_batch4]\n",
        "batch5['language'] = label_encoder.classes_[prediction_batch5]"
      ],
      "execution_count": null,
      "outputs": [
        {
          "output_type": "stream",
          "text": [
            "/usr/local/lib/python3.7/dist-packages/ipykernel_launcher.py:1: SettingWithCopyWarning: \n",
            "A value is trying to be set on a copy of a slice from a DataFrame.\n",
            "Try using .loc[row_indexer,col_indexer] = value instead\n",
            "\n",
            "See the caveats in the documentation: https://pandas.pydata.org/pandas-docs/stable/user_guide/indexing.html#returning-a-view-versus-a-copy\n",
            "  \"\"\"Entry point for launching an IPython kernel.\n",
            "/usr/local/lib/python3.7/dist-packages/ipykernel_launcher.py:2: SettingWithCopyWarning: \n",
            "A value is trying to be set on a copy of a slice from a DataFrame.\n",
            "Try using .loc[row_indexer,col_indexer] = value instead\n",
            "\n",
            "See the caveats in the documentation: https://pandas.pydata.org/pandas-docs/stable/user_guide/indexing.html#returning-a-view-versus-a-copy\n",
            "  \n",
            "/usr/local/lib/python3.7/dist-packages/ipykernel_launcher.py:3: SettingWithCopyWarning: \n",
            "A value is trying to be set on a copy of a slice from a DataFrame.\n",
            "Try using .loc[row_indexer,col_indexer] = value instead\n",
            "\n",
            "See the caveats in the documentation: https://pandas.pydata.org/pandas-docs/stable/user_guide/indexing.html#returning-a-view-versus-a-copy\n",
            "  This is separate from the ipykernel package so we can avoid doing imports until\n",
            "/usr/local/lib/python3.7/dist-packages/ipykernel_launcher.py:4: SettingWithCopyWarning: \n",
            "A value is trying to be set on a copy of a slice from a DataFrame.\n",
            "Try using .loc[row_indexer,col_indexer] = value instead\n",
            "\n",
            "See the caveats in the documentation: https://pandas.pydata.org/pandas-docs/stable/user_guide/indexing.html#returning-a-view-versus-a-copy\n",
            "  after removing the cwd from sys.path.\n",
            "/usr/local/lib/python3.7/dist-packages/ipykernel_launcher.py:5: SettingWithCopyWarning: \n",
            "A value is trying to be set on a copy of a slice from a DataFrame.\n",
            "Try using .loc[row_indexer,col_indexer] = value instead\n",
            "\n",
            "See the caveats in the documentation: https://pandas.pydata.org/pandas-docs/stable/user_guide/indexing.html#returning-a-view-versus-a-copy\n",
            "  \"\"\"\n"
          ],
          "name": "stderr"
        }
      ]
    },
    {
      "cell_type": "code",
      "metadata": {
        "colab": {
          "base_uri": "https://localhost:8080/",
          "height": 197
        },
        "id": "NWb5LaO27Pdu",
        "outputId": "6f5e0303-0392-46e1-aaf5-72074f1c01c3"
      },
      "source": [
        "batch1.head()"
      ],
      "execution_count": null,
      "outputs": [
        {
          "output_type": "execute_result",
          "data": {
            "text/html": [
              "<div>\n",
              "<style scoped>\n",
              "    .dataframe tbody tr th:only-of-type {\n",
              "        vertical-align: middle;\n",
              "    }\n",
              "\n",
              "    .dataframe tbody tr th {\n",
              "        vertical-align: top;\n",
              "    }\n",
              "\n",
              "    .dataframe thead th {\n",
              "        text-align: right;\n",
              "    }\n",
              "</style>\n",
              "<table border=\"1\" class=\"dataframe\">\n",
              "  <thead>\n",
              "    <tr style=\"text-align: right;\">\n",
              "      <th></th>\n",
              "      <th>sentence</th>\n",
              "      <th>language</th>\n",
              "    </tr>\n",
              "  </thead>\n",
              "  <tbody>\n",
              "    <tr>\n",
              "      <th>0</th>\n",
              "      <td>תודה לכם</td>\n",
              "      <td>he</td>\n",
              "    </tr>\n",
              "    <tr>\n",
              "      <th>1</th>\n",
              "      <td>Precisamos de compaixão para começar  e autoin...</td>\n",
              "      <td>pt-br</td>\n",
              "    </tr>\n",
              "    <tr>\n",
              "      <th>2</th>\n",
              "      <td>這個增長相當大  並且它將引發經濟的增長</td>\n",
              "      <td>zh-tw</td>\n",
              "    </tr>\n",
              "    <tr>\n",
              "      <th>3</th>\n",
              "      <td>시애틀에서 자란 제가 처음 가난을 보게 되던 때를 기억해요</td>\n",
              "      <td>ko</td>\n",
              "    </tr>\n",
              "    <tr>\n",
              "      <th>4</th>\n",
              "      <td>これをロボットに組み込みました</td>\n",
              "      <td>ja</td>\n",
              "    </tr>\n",
              "  </tbody>\n",
              "</table>\n",
              "</div>"
            ],
            "text/plain": [
              "                                            sentence language\n",
              "0                                           תודה לכם       he\n",
              "1  Precisamos de compaixão para começar  e autoin...    pt-br\n",
              "2                               這個增長相當大  並且它將引發經濟的增長    zh-tw\n",
              "3                   시애틀에서 자란 제가 처음 가난을 보게 되던 때를 기억해요       ko\n",
              "4                                    これをロボットに組み込みました       ja"
            ]
          },
          "metadata": {
            "tags": []
          },
          "execution_count": 73
        }
      ]
    },
    {
      "cell_type": "code",
      "metadata": {
        "id": "Sj6XHFqr6_Vz"
      },
      "source": [
        "submition = pd.concat([batch1, batch2, batch3, batch4, batch5])"
      ],
      "execution_count": null,
      "outputs": []
    },
    {
      "cell_type": "code",
      "metadata": {
        "id": "gngR8_ZS7rdR"
      },
      "source": [
        "submition['index']=submition.index"
      ],
      "execution_count": null,
      "outputs": []
    },
    {
      "cell_type": "code",
      "metadata": {
        "colab": {
          "base_uri": "https://localhost:8080/"
        },
        "id": "Qea9XhpK-Yrq",
        "outputId": "bb01fe05-f1c8-42c8-ff6b-b2b52a138061"
      },
      "source": [
        "submition.shape"
      ],
      "execution_count": null,
      "outputs": [
        {
          "output_type": "execute_result",
          "data": {
            "text/plain": [
              "(2784634, 3)"
            ]
          },
          "metadata": {
            "tags": []
          },
          "execution_count": 79
        }
      ]
    },
    {
      "cell_type": "code",
      "metadata": {
        "ExecuteTime": {
          "end_time": "2021-04-14T09:38:02.684073Z",
          "start_time": "2021-04-14T09:37:56.338439Z"
        },
        "id": "puhoZaMaH9Ay"
      },
      "source": [
        "(\n",
        "    submition[['index','language']].to_csv(f'{DATA_PATH}/final_sub.csv', index=False)\n",
        ")"
      ],
      "execution_count": null,
      "outputs": []
    },
    {
      "cell_type": "code",
      "metadata": {
        "ExecuteTime": {
          "end_time": "2021-04-14T09:38:02.856262Z",
          "start_time": "2021-04-14T09:38:02.686534Z"
        },
        "id": "hp1h_82NH9Az",
        "colab": {
          "base_uri": "https://localhost:8080/"
        },
        "outputId": "dd03282b-101c-4c0e-d7f7-0bc17951ee5b"
      },
      "source": [
        "!head $DATA_PATH/final_sub.csv"
      ],
      "execution_count": null,
      "outputs": [
        {
          "output_type": "stream",
          "text": [
            "index,language\n",
            "0,he\n",
            "1,pt-br\n",
            "2,zh-tw\n",
            "3,ko\n",
            "4,ja\n",
            "5,zh-tw\n",
            "6,hu\n",
            "7,nl\n",
            "8,ru\n"
          ],
          "name": "stdout"
        }
      ]
    },
    {
      "cell_type": "markdown",
      "metadata": {
        "id": "sQWPJoDIH9Az"
      },
      "source": [
        "# Homework\n",
        "\n",
        "- выбить хороший score на private leaderboard'е (8 баллов)\n",
        "- совет: поищите ошибки в train-части датасета"
      ]
    },
    {
      "cell_type": "markdown",
      "metadata": {
        "id": "FOmFwOBwFaKg"
      },
      "source": [
        "Решал задание изменяя существующий код, все описано выше."
      ]
    }
  ]
}